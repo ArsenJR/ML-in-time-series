{
 "cells": [
  {
   "cell_type": "markdown",
   "metadata": {
    "toc": true
   },
   "source": [
    "<h1>Содержание<span class=\"tocSkip\"></span></h1>\n",
    "<div class=\"toc\"><ul class=\"toc-item\"><li><span><a href=\"#Подготовка\" data-toc-modified-id=\"Подготовка-1\"><span class=\"toc-item-num\">1&nbsp;&nbsp;</span>Подготовка</a></span><ul class=\"toc-item\"><li><span><a href=\"#Вывод\" data-toc-modified-id=\"Вывод-1.1\"><span class=\"toc-item-num\">1.1&nbsp;&nbsp;</span>Вывод</a></span></li></ul></li><li><span><a href=\"#Анализ\" data-toc-modified-id=\"Анализ-2\"><span class=\"toc-item-num\">2&nbsp;&nbsp;</span>Анализ</a></span><ul class=\"toc-item\"><li><span><a href=\"#Вывод\" data-toc-modified-id=\"Вывод-2.1\"><span class=\"toc-item-num\">2.1&nbsp;&nbsp;</span>Вывод</a></span></li></ul></li><li><span><a href=\"#Обучение\" data-toc-modified-id=\"Обучение-3\"><span class=\"toc-item-num\">3&nbsp;&nbsp;</span>Обучение</a></span><ul class=\"toc-item\"><li><span><a href=\"#Вывод\" data-toc-modified-id=\"Вывод-3.1\"><span class=\"toc-item-num\">3.1&nbsp;&nbsp;</span>Вывод</a></span></li></ul></li><li><span><a href=\"#Тестирование\" data-toc-modified-id=\"Тестирование-4\"><span class=\"toc-item-num\">4&nbsp;&nbsp;</span>Тестирование</a></span><ul class=\"toc-item\"><li><span><a href=\"#Вывод\" data-toc-modified-id=\"Вывод-4.1\"><span class=\"toc-item-num\">4.1&nbsp;&nbsp;</span>Вывод</a></span></li></ul></li><li><span><a href=\"#Вывод\" data-toc-modified-id=\"Вывод-5\"><span class=\"toc-item-num\">5&nbsp;&nbsp;</span>Вывод</a></span></li><li><span><a href=\"#Чек-лист-проверки\" data-toc-modified-id=\"Чек-лист-проверки-6\"><span class=\"toc-item-num\">6&nbsp;&nbsp;</span>Чек-лист проверки</a></span></li></ul></div>"
   ]
  },
  {
   "cell_type": "markdown",
   "metadata": {},
   "source": [
    "#  Прогнозирование заказов такси"
   ]
  },
  {
   "cell_type": "markdown",
   "metadata": {},
   "source": [
    "Перед нами исторические данные о заказах такси в аэропортах.Нам необходимо спрогнозировать количество заказов такси на следующий час. Для этого построим модель.\n",
    "\n",
    "Значение метрики *RMSE* на тестовой выборке должно быть не больше 48."
   ]
  },
  {
   "cell_type": "markdown",
   "metadata": {},
   "source": [
    "## Подготовка"
   ]
  },
  {
   "cell_type": "markdown",
   "metadata": {},
   "source": [
    "Подключим необходимые библиотеки."
   ]
  },
  {
   "cell_type": "code",
   "execution_count": 1,
   "metadata": {},
   "outputs": [],
   "source": [
    "import pandas as pd\n",
    "import numpy as np\n",
    "import matplotlib.pyplot as plt\n",
    "from statsmodels.tsa.seasonal import seasonal_decompose\n",
    "from sklearn.model_selection import train_test_split\n",
    "from sklearn.dummy import DummyRegressor\n",
    "from sklearn.linear_model import LinearRegression\n",
    "from sklearn.ensemble import RandomForestRegressor\n",
    "from sklearn.tree import DecisionTreeRegressor\n",
    "from sklearn.metrics import mean_squared_error\n",
    "import warnings\n",
    "from lightgbm import LGBMRegressor"
   ]
  },
  {
   "cell_type": "code",
   "execution_count": 2,
   "metadata": {},
   "outputs": [],
   "source": [
    "# команда для игнорирования предупреждений\n",
    "warnings.filterwarnings('ignore')"
   ]
  },
  {
   "cell_type": "code",
   "execution_count": 3,
   "metadata": {},
   "outputs": [],
   "source": [
    "# заранее определим стиль для наших графиков\n",
    "plt.style.use('ggplot')"
   ]
  },
  {
   "cell_type": "markdown",
   "metadata": {},
   "source": [
    "Загрузим и изучим данные."
   ]
  },
  {
   "cell_type": "code",
   "execution_count": 37,
   "metadata": {},
   "outputs": [],
   "source": [
    "# установим индекс таблицы равным столбцу datatime\n",
    "data = pd.read_csv('/datasets/taxi.csv', index_col=[0], parse_dates=[0])"
   ]
  },
  {
   "cell_type": "code",
   "execution_count": 38,
   "metadata": {},
   "outputs": [
    {
     "data": {
      "text/html": [
       "<div>\n",
       "<style scoped>\n",
       "    .dataframe tbody tr th:only-of-type {\n",
       "        vertical-align: middle;\n",
       "    }\n",
       "\n",
       "    .dataframe tbody tr th {\n",
       "        vertical-align: top;\n",
       "    }\n",
       "\n",
       "    .dataframe thead th {\n",
       "        text-align: right;\n",
       "    }\n",
       "</style>\n",
       "<table border=\"1\" class=\"dataframe\">\n",
       "  <thead>\n",
       "    <tr style=\"text-align: right;\">\n",
       "      <th></th>\n",
       "      <th>num_orders</th>\n",
       "    </tr>\n",
       "    <tr>\n",
       "      <th>datetime</th>\n",
       "      <th></th>\n",
       "    </tr>\n",
       "  </thead>\n",
       "  <tbody>\n",
       "    <tr>\n",
       "      <td>2018-03-01 00:00:00</td>\n",
       "      <td>9</td>\n",
       "    </tr>\n",
       "    <tr>\n",
       "      <td>2018-03-01 00:10:00</td>\n",
       "      <td>14</td>\n",
       "    </tr>\n",
       "    <tr>\n",
       "      <td>2018-03-01 00:20:00</td>\n",
       "      <td>28</td>\n",
       "    </tr>\n",
       "    <tr>\n",
       "      <td>2018-03-01 00:30:00</td>\n",
       "      <td>20</td>\n",
       "    </tr>\n",
       "    <tr>\n",
       "      <td>2018-03-01 00:40:00</td>\n",
       "      <td>32</td>\n",
       "    </tr>\n",
       "  </tbody>\n",
       "</table>\n",
       "</div>"
      ],
      "text/plain": [
       "                     num_orders\n",
       "datetime                       \n",
       "2018-03-01 00:00:00           9\n",
       "2018-03-01 00:10:00          14\n",
       "2018-03-01 00:20:00          28\n",
       "2018-03-01 00:30:00          20\n",
       "2018-03-01 00:40:00          32"
      ]
     },
     "execution_count": 38,
     "metadata": {},
     "output_type": "execute_result"
    }
   ],
   "source": [
    "data.head()"
   ]
  },
  {
   "cell_type": "code",
   "execution_count": 39,
   "metadata": {},
   "outputs": [
    {
     "name": "stdout",
     "output_type": "stream",
     "text": [
      "<class 'pandas.core.frame.DataFrame'>\n",
      "DatetimeIndex: 26496 entries, 2018-03-01 00:00:00 to 2018-08-31 23:50:00\n",
      "Data columns (total 1 columns):\n",
      "num_orders    26496 non-null int64\n",
      "dtypes: int64(1)\n",
      "memory usage: 414.0 KB\n"
     ]
    }
   ],
   "source": [
    "data.info()"
   ]
  },
  {
   "cell_type": "markdown",
   "metadata": {},
   "source": [
    "Проверим, , в хронологическом ли порядке расположены даты и время."
   ]
  },
  {
   "cell_type": "code",
   "execution_count": 40,
   "metadata": {},
   "outputs": [
    {
     "data": {
      "text/plain": [
       "True"
      ]
     },
     "execution_count": 40,
     "metadata": {},
     "output_type": "execute_result"
    }
   ],
   "source": [
    "data.index.is_monotonic"
   ]
  },
  {
   "cell_type": "markdown",
   "metadata": {},
   "source": [
    "Перед нами данные за пол года с 01.03.2018 по 31.08.2018. Они расположены в хронологическом порядке.\n",
    "Выполним ресемплирование суммарных данных за один час и построим график временного ряда."
   ]
  },
  {
   "cell_type": "code",
   "execution_count": 41,
   "metadata": {},
   "outputs": [],
   "source": [
    "data = data.resample('1H').sum()"
   ]
  },
  {
   "cell_type": "code",
   "execution_count": 42,
   "metadata": {},
   "outputs": [
    {
     "data": {
      "text/plain": [
       "<matplotlib.axes._subplots.AxesSubplot at 0x7f09603cb7d0>"
      ]
     },
     "execution_count": 42,
     "metadata": {},
     "output_type": "execute_result"
    },
    {
     "data": {
      "image/png": "[encoded data removed]",
      "text/plain": [
       "<Figure size 432x288 with 1 Axes>"
      ]
     },
     "metadata": {},
     "output_type": "display_data"
    }
   ],
   "source": [
    "data.plot()"
   ]
  },
  {
   "cell_type": "markdown",
   "metadata": {},
   "source": [
    "### Вывод\n",
    "\n",
    "Пока ничего не понятно, можно лишь сказать, что количество со временем ратёт. Далее перейдём к анализу данных. "
   ]
  },
  {
   "cell_type": "markdown",
   "metadata": {},
   "source": [
    "## Анализ"
   ]
  },
  {
   "cell_type": "markdown",
   "metadata": {},
   "source": [
    "В этой части проекта проанализируем наши данные. Посмотрим какие тренды и сезонности можно найти в наших данных. "
   ]
  },
  {
   "cell_type": "markdown",
   "metadata": {},
   "source": [
    "Так как нам необходимо спрогнозировать количество заказов такси на следующий час, выбелим данные за о заказах за последнюю неделю."
   ]
  },
  {
   "cell_type": "code",
   "execution_count": 10,
   "metadata": {},
   "outputs": [],
   "source": [
    "data = data['2018-08-24' : '2018-08-31']"
   ]
  },
  {
   "cell_type": "markdown",
   "metadata": {},
   "source": [
    "Добавим столбец со скользящее среднее и построим график количество заказов такси."
   ]
  },
  {
   "cell_type": "code",
   "execution_count": 11,
   "metadata": {},
   "outputs": [],
   "source": [
    "# добавим столбец со скользящим средним\n",
    "data['rolling_mean'] = data.rolling(10).mean()"
   ]
  },
  {
   "cell_type": "code",
   "execution_count": 12,
   "metadata": {},
   "outputs": [
    {
     "data": {
      "text/plain": [
       "<matplotlib.axes._subplots.AxesSubplot at 0x7f0960d66490>"
      ]
     },
     "execution_count": 12,
     "metadata": {},
     "output_type": "execute_result"
    },
    {
     "data": {
      "image/png": "[encoded data removed]",
      "text/plain": [
       "<Figure size 648x432 with 1 Axes>"
      ]
     },
     "metadata": {},
     "output_type": "display_data"
    }
   ],
   "source": [
    "data.plot(figsize=(9, 6), grid=True)"
   ]
  },
  {
   "cell_type": "markdown",
   "metadata": {},
   "source": [
    "Значения столбца 'rolling_mean' находятся в одном диапазоне, лишь наблюдается небольшой рост. Это говорит о том, что в среднем в каждый день количество заказов одно. \n",
    "\n",
    "Далее разложим временной ряд на тренд и сезонную компоненту. Построим графики этих составляющих ряда."
   ]
  },
  {
   "cell_type": "code",
   "execution_count": 13,
   "metadata": {},
   "outputs": [],
   "source": [
    "decomposed = seasonal_decompose(data['num_orders'])"
   ]
  },
  {
   "cell_type": "code",
   "execution_count": 14,
   "metadata": {},
   "outputs": [
    {
     "data": {
      "image/png": "[encoded data removed]",
      "text/plain": [
       "<Figure size 720x1008 with 3 Axes>"
      ]
     },
     "metadata": {},
     "output_type": "display_data"
    }
   ],
   "source": [
    "plt.figure(figsize=(10, 14))\n",
    "\n",
    "plt.subplot(311)\n",
    "decomposed.trend.plot(ax=plt.gca())\n",
    "plt.title('Trend')\n",
    "\n",
    "\n",
    "plt.subplot(312)\n",
    "decomposed.seasonal.plot(ax=plt.gca()) \n",
    "plt.title('Seasonality')\n",
    "\n",
    "\n",
    "plt.subplot(313)\n",
    "decomposed.resid.plot(ax=plt.gca()) \n",
    "plt.title('Residuals')\n",
    "plt.tight_layout()"
   ]
  },
  {
   "cell_type": "markdown",
   "metadata": {},
   "source": [
    "Сезонность с периодом в день, что логично. Заказов днем больше, чем ночных заказов.\n",
    "\n",
    "Но наш ряд всё ещё не стационарный. Чтобы это исправить Вычислим разности временного ряда."
   ]
  },
  {
   "cell_type": "code",
   "execution_count": 15,
   "metadata": {},
   "outputs": [],
   "source": [
    "data = data - data.shift()\n",
    "data['mean'] = data['num_orders'].rolling(15).mean()\n",
    "data['std'] = data['num_orders'].rolling(15).std()"
   ]
  },
  {
   "cell_type": "code",
   "execution_count": 16,
   "metadata": {},
   "outputs": [
    {
     "data": {
      "text/plain": [
       "<matplotlib.axes._subplots.AxesSubplot at 0x7f09601b0d50>"
      ]
     },
     "execution_count": 16,
     "metadata": {},
     "output_type": "execute_result"
    },
    {
     "data": {
      "image/png": "[encoded data removed]",
      "text/plain": [
       "<Figure size 648x432 with 1 Axes>"
      ]
     },
     "metadata": {},
     "output_type": "display_data"
    }
   ],
   "source": [
    "data.plot(figsize=(9, 6), grid=True)"
   ]
  },
  {
   "cell_type": "markdown",
   "metadata": {},
   "source": [
    "### Вывод\n",
    "\n",
    "Ряд стал более стационарный, а знасит, данные можно прогнозировать. Далее перейдём к подбору и обучению модели."
   ]
  },
  {
   "cell_type": "markdown",
   "metadata": {},
   "source": [
    "## Обучение"
   ]
  },
  {
   "cell_type": "markdown",
   "metadata": {},
   "source": [
    "В этой части проекта займёмся обучением и поиском лучшей модели.\n",
    "\n",
    "Разделим данные на тренировочную и тестовую. Сделаеv тестовую выборку размером 10% от исходных данных.\n",
    "\n",
    "Обучим разные модели с различными гиперпараметрами и проверим их качество метрикой RMSE."
   ]
  },
  {
   "cell_type": "code",
   "execution_count": 17,
   "metadata": {},
   "outputs": [],
   "source": [
    "#удалим ненужные значения из данных\n",
    "del data['mean'], data['std'], data['rolling_mean']"
   ]
  },
  {
   "cell_type": "markdown",
   "metadata": {},
   "source": [
    "Перед тем, как добавлять признаки, проверим, есть ли у нас пропущенные значения."
   ]
  },
  {
   "cell_type": "code",
   "execution_count": 18,
   "metadata": {},
   "outputs": [
    {
     "data": {
      "text/plain": [
       "num_orders    1\n",
       "dtype: int64"
      ]
     },
     "execution_count": 18,
     "metadata": {},
     "output_type": "execute_result"
    }
   ],
   "source": [
    "data.isna().sum()"
   ]
  },
  {
   "cell_type": "code",
   "execution_count": 19,
   "metadata": {},
   "outputs": [
    {
     "data": {
      "text/plain": [
       "num_orders    0\n",
       "dtype: int64"
      ]
     },
     "execution_count": 19,
     "metadata": {},
     "output_type": "execute_result"
    }
   ],
   "source": [
    "# удалим пропуски\n",
    "data = data.dropna()\n",
    "data.isna().sum()"
   ]
  },
  {
   "cell_type": "markdown",
   "metadata": {},
   "source": [
    "С пропусками разобрались. Далее создадим признаки для горизонта прогнозирования в один шаг."
   ]
  },
  {
   "cell_type": "code",
   "execution_count": 20,
   "metadata": {},
   "outputs": [],
   "source": [
    "def make_features(data, max_lag, rolling_mean_size):\n",
    "    \n",
    "    #  Календарные признаки\n",
    "    \n",
    "    \n",
    "    data['hour'] = data.index.hour\n",
    "    data['dayofweek'] = data.index.dayofweek\n",
    "    \n",
    "    # «Отстающие значения»\n",
    "    for lag in range(1, max_lag + 1):\n",
    "        data['lag_{}'.format(lag)] = data['num_orders'].shift(lag)\n",
    "\n",
    "    # Скользящее среднее\n",
    "    data['rolling_mean'] =  data['num_orders'].shift().rolling(rolling_mean_size).mean()"
   ]
  },
  {
   "cell_type": "code",
   "execution_count": 21,
   "metadata": {},
   "outputs": [],
   "source": [
    "#make_features(data, 4*8, 10)"
   ]
  },
  {
   "cell_type": "code",
   "execution_count": 43,
   "metadata": {},
   "outputs": [],
   "source": [
    "make_features(data, 4*8, 48)"
   ]
  },
  {
   "cell_type": "code",
   "execution_count": 44,
   "metadata": {},
   "outputs": [],
   "source": [
    "# поделим наши выборки\n",
    "train, test = train_test_split(data, shuffle=False, test_size=0.1)"
   ]
  },
  {
   "cell_type": "code",
   "execution_count": 45,
   "metadata": {},
   "outputs": [
    {
     "name": "stdout",
     "output_type": "stream",
     "text": [
      "2018-03-01 00:00:00 2018-08-13 13:00:00 (3974, 36)\n",
      "2018-08-13 14:00:00 2018-08-31 23:00:00 (442, 36)\n"
     ]
    }
   ],
   "source": [
    "print(train.index.min(), train.index.max(), train.shape)\n",
    "print(test.index.min(), test.index.max(), test.shape)\n"
   ]
  },
  {
   "cell_type": "markdown",
   "metadata": {},
   "source": [
    "Данные разбили корректно: обучающая выборка заканчивается 31 августа в 3 часа, а тестовая начинается 31 августав в 4 часа.\n",
    "\n",
    "Выделим целевой признак."
   ]
  },
  {
   "cell_type": "code",
   "execution_count": 46,
   "metadata": {},
   "outputs": [],
   "source": [
    "# из обучающей выборки удалим строки с пропусками\n",
    "train = train.dropna()"
   ]
  },
  {
   "cell_type": "code",
   "execution_count": 47,
   "metadata": {},
   "outputs": [],
   "source": [
    "features_train = train.drop('num_orders', axis=1)\n",
    "target_train = train['num_orders']\n",
    "\n",
    "features_test = test.drop('num_orders', axis=1)\n",
    "target_test = test['num_orders']"
   ]
  },
  {
   "cell_type": "markdown",
   "metadata": {},
   "source": [
    "Данные для обучения готовы. Обучим модели линейной регрессии и случайного леса и проверим значения метрики RMSE на тренировочной выборке."
   ]
  },
  {
   "cell_type": "code",
   "execution_count": 48,
   "metadata": {},
   "outputs": [
    {
     "name": "stdout",
     "output_type": "stream",
     "text": [
      "RMSE = 44.73843222108494\n"
     ]
    }
   ],
   "source": [
    "model = LinearRegression().fit(features_train, target_train)\n",
    "pred_train = model.predict(features_test)\n",
    "\n",
    "print(\"RMSE =\", mean_squared_error(target_test, pred_train)**0.5)"
   ]
  },
  {
   "cell_type": "markdown",
   "metadata": {},
   "source": [
    "При помощи модели линейной регрессии удалось добиться значения метрики RMSE равному 48.3. \n",
    "\n",
    "Далее проверим, как покажет себя модель случайного леса."
   ]
  },
  {
   "cell_type": "code",
   "execution_count": 27,
   "metadata": {},
   "outputs": [
    {
     "name": "stdout",
     "output_type": "stream",
     "text": [
      "RMSE = 62.60228430337027\n"
     ]
    }
   ],
   "source": [
    "model = RandomForestRegressor(random_state=30050).fit(features_train, target_train)\n",
    "pred_train = model.predict(features_test)\n",
    "\n",
    "print(\"RMSE =\", mean_squared_error(target_test, pred_train)**0.5)"
   ]
  },
  {
   "cell_type": "markdown",
   "metadata": {},
   "source": [
    "При помощи модели случайного леса удалось добиться значения метрики RMSE равному 62.6, немного хуже, чем у линейной регрессии. С помощью подборов гиперпараметров постараемся улучшить это значение."
   ]
  },
  {
   "cell_type": "code",
   "execution_count": 28,
   "metadata": {},
   "outputs": [
    {
     "name": "stdout",
     "output_type": "stream",
     "text": [
      "Best model:\n",
      "n_estimators = 50, RMSE = 59.59777915325368\n"
     ]
    }
   ],
   "source": [
    "best_results = 3000\n",
    "estimator = 0\n",
    "\n",
    "for n_estimators in [1, 5, 10, 50, 100, 500]:\n",
    "    \n",
    "    model = RandomForestRegressor(random_state=30050, n_estimators=n_estimators).fit(features_train, target_train)\n",
    "    predictions = model.predict(features_test)\n",
    "    rmse = mean_squared_error(target_test, predictions)**0.5\n",
    "    \n",
    "    if rmse < best_results:\n",
    "        best_results = rmse\n",
    "        estimator = n_estimators\n",
    "        \n",
    "print('Best model:')\n",
    "print(f'n_estimators = {estimator}, RMSE = {best_results}')"
   ]
  },
  {
   "cell_type": "markdown",
   "metadata": {},
   "source": [
    "Лучше всего себя показала модель с 50 деревьями."
   ]
  },
  {
   "cell_type": "code",
   "execution_count": 29,
   "metadata": {},
   "outputs": [
    {
     "name": "stdout",
     "output_type": "stream",
     "text": [
      "Best model:\n",
      "max_depth = 10, RMSE = 59.12114320427387\n"
     ]
    }
   ],
   "source": [
    "best_results = 3000\n",
    "best_depth = 0\n",
    "\n",
    "for depth in [1, 10, 30, 50, 500]:\n",
    "    \n",
    "    model = RandomForestRegressor(random_state=30050, n_estimators=50, max_depth=depth).fit(features_train, target_train)\n",
    "    pred = model.predict(features_test)\n",
    "    rmse = mean_squared_error(target_test, pred)**0.5\n",
    "    \n",
    "    if rmse < best_results:\n",
    "        best_results = rmse\n",
    "        best_depth = depth\n",
    "        \n",
    "print('Best model:')\n",
    "print(f'max_depth = {best_depth}, RMSE = {best_results}')"
   ]
  },
  {
   "cell_type": "markdown",
   "metadata": {},
   "source": [
    "Лучшее значение RMSE, которое мы смогли достичь с случайным лесом равно 59.1, это всеравно хуже линейной регрессии."
   ]
  },
  {
   "cell_type": "markdown",
   "metadata": {},
   "source": [
    "### Вывод\n",
    "\n",
    "Подобрали модель. Лучше всего себя показала модель линейной регресии. В следующей и заключительной части нашего проекта протестируем нашу модель, проверим её на вменяемость."
   ]
  },
  {
   "cell_type": "markdown",
   "metadata": {},
   "source": [
    "## Тестирование"
   ]
  },
  {
   "cell_type": "markdown",
   "metadata": {},
   "source": [
    "В этой части работы нам предстоит спрогнозировать временные ряды без обучения двумя способами:\n",
    "\n",
    "* прогнозирование средним;\n",
    "* прогнозирование предыдущим значением.\n",
    "\n",
    "Рассчитаем значение метрики RMSE и сравним его с оценкой качества нашей модели."
   ]
  },
  {
   "cell_type": "code",
   "execution_count": 49,
   "metadata": {},
   "outputs": [
    {
     "name": "stdout",
     "output_type": "stream",
     "text": [
      "RMSE нашей модели: 44.73843222108494\n"
     ]
    }
   ],
   "source": [
    "model = LinearRegression().fit(features_train, target_train)\n",
    "pred_test = model.predict(features_test)\n",
    "\n",
    "print(\"RMSE нашей модели:\", mean_squared_error(target_test, pred_test)**0.5)"
   ]
  },
  {
   "cell_type": "markdown",
   "metadata": {},
   "source": [
    "Рассчитаем значение метрики RMSE при прогнозировании средними значениями."
   ]
  },
  {
   "cell_type": "code",
   "execution_count": 31,
   "metadata": {},
   "outputs": [
    {
     "name": "stdout",
     "output_type": "stream",
     "text": [
      "Средний объём электропотребления в день: 5.3\n",
      "RMSE прогнозирования средним: 72.93764460139907\n"
     ]
    }
   ],
   "source": [
    "print(\"Средний объём электропотребления в день:\", target_test.mean())\n",
    "\n",
    "pred_median = np.ones(target_test.shape) * target_train.median()\n",
    "\n",
    "print(\"RMSE прогнозирования средним:\", mean_squared_error(target_test, pred_median)**0.5)"
   ]
  },
  {
   "cell_type": "markdown",
   "metadata": {},
   "source": [
    "RMSE = 72.9, что больше, чем у нашией модели линейной регрессии.\n",
    "\n",
    "Рассчитаем значение метрики RMSE при прогнозировании предыдущими значениями."
   ]
  },
  {
   "cell_type": "code",
   "execution_count": 32,
   "metadata": {},
   "outputs": [
    {
     "name": "stdout",
     "output_type": "stream",
     "text": [
      "Средний объём электропотребления в день: 5.3\n",
      "RMSE: 126.04066804012108\n"
     ]
    }
   ],
   "source": [
    "print(\"Средний объём электропотребления в день:\", target_test.mean())\n",
    "\n",
    "pred_previous = target_test.shift(fill_value=target_train.iloc[target_train.shape[0]-1])\n",
    "\n",
    "print(\"RMSE:\", mean_squared_error(target_test, pred_previous)**0.5)"
   ]
  },
  {
   "cell_type": "markdown",
   "metadata": {},
   "source": [
    "RMSE у данного способа прогнащирования даже, больше чем у прошлой."
   ]
  },
  {
   "cell_type": "markdown",
   "metadata": {},
   "source": []
  },
  {
   "cell_type": "code",
   "execution_count": 33,
   "metadata": {},
   "outputs": [],
   "source": [
    "test['predictions'] = pred_test"
   ]
  },
  {
   "cell_type": "code",
   "execution_count": 34,
   "metadata": {},
   "outputs": [
    {
     "data": {
      "image/png": "[encoded data removed]",
      "text/plain": [
       "<Figure size 648x432 with 1 Axes>"
      ]
     },
     "metadata": {},
     "output_type": "display_data"
    }
   ],
   "source": [
    "ax = test[['num_orders','predictions']].plot(figsize=(9, 6), grid=True)\n",
    "\n",
    "ax.set_title('Предсказания модели количества заказов на такси')\n",
    "ax.set_xlabel(\"Дата и время\");"
   ]
  },
  {
   "cell_type": "markdown",
   "metadata": {},
   "source": [
    "### Вывод\n",
    "\n",
    "Наша модель прошла проверку на вменяемость. Её значение метрики RMSE меньше чем у моделей прогнозирующих без обучения."
   ]
  },
  {
   "cell_type": "markdown",
   "metadata": {},
   "source": [
    "## Вывод\n",
    "\n",
    "В данной работе нам удалось построить модель для предсказания количества заказов такси на следующий час. Мы рассмотрели две модели: линейную регрессию и случайный лес. Оценивали мы их метрикой качества RMSE. Лучше всего себя показала модель линейной регрессии. В конце, чтобы убедится, что мы проделали нашу работу не зря, сравнили модель с моделями, которые предсказывают без обучения. У них значения метрики RMSE выше, что говорит о том, что наша модель вменяема.\n",
    "\n",
    "Так что, подводя итоги, я бы предложил компании «Чётенькое такси» для прогнозирования спроса на следующий час использовать модель линейной регрессии."
   ]
  }
 ],
 "metadata": {
  "ExecuteTimeLog": [
   {
    "duration": 629,
    "start_time": "2021-12-28T13:37:33.914Z"
   },
   {
    "duration": 32,
    "start_time": "2021-12-28T13:37:44.404Z"
   },
   {
    "duration": 30,
    "start_time": "2021-12-28T13:37:48.089Z"
   },
   {
    "duration": 8,
    "start_time": "2021-12-28T13:37:52.444Z"
   },
   {
    "duration": 13,
    "start_time": "2021-12-28T13:38:00.197Z"
   },
   {
    "duration": 7,
    "start_time": "2021-12-28T13:38:06.254Z"
   },
   {
    "duration": 45,
    "start_time": "2021-12-28T13:38:28.861Z"
   },
   {
    "duration": 7,
    "start_time": "2021-12-28T13:38:34.962Z"
   },
   {
    "duration": 37,
    "start_time": "2021-12-28T13:38:42.789Z"
   },
   {
    "duration": 6,
    "start_time": "2021-12-28T13:38:43.316Z"
   },
   {
    "duration": 36,
    "start_time": "2021-12-28T13:38:50.397Z"
   },
   {
    "duration": 8,
    "start_time": "2021-12-28T13:38:50.758Z"
   },
   {
    "duration": 39,
    "start_time": "2021-12-28T13:38:54.261Z"
   },
   {
    "duration": 10,
    "start_time": "2021-12-28T13:38:54.769Z"
   },
   {
    "duration": 46,
    "start_time": "2021-12-28T13:39:00.336Z"
   },
   {
    "duration": 8,
    "start_time": "2021-12-28T13:39:00.849Z"
   },
   {
    "duration": 38,
    "start_time": "2021-12-28T13:39:10.777Z"
   },
   {
    "duration": 7,
    "start_time": "2021-12-28T13:39:11.103Z"
   },
   {
    "duration": 38,
    "start_time": "2021-12-28T13:39:16.288Z"
   },
   {
    "duration": 11,
    "start_time": "2021-12-28T13:39:16.588Z"
   },
   {
    "duration": 6,
    "start_time": "2021-12-28T13:39:37.988Z"
   },
   {
    "duration": 35,
    "start_time": "2021-12-28T13:40:14.019Z"
   },
   {
    "duration": 8,
    "start_time": "2021-12-28T13:40:14.800Z"
   },
   {
    "duration": 7,
    "start_time": "2021-12-28T13:40:22.125Z"
   },
   {
    "duration": 36,
    "start_time": "2021-12-28T13:40:29.272Z"
   },
   {
    "duration": 7,
    "start_time": "2021-12-28T13:40:29.500Z"
   },
   {
    "duration": 6,
    "start_time": "2021-12-28T13:40:30.309Z"
   },
   {
    "duration": 4,
    "start_time": "2021-12-28T13:40:51.682Z"
   },
   {
    "duration": 44,
    "start_time": "2021-12-28T13:42:48.557Z"
   },
   {
    "duration": 8,
    "start_time": "2021-12-28T13:42:48.887Z"
   },
   {
    "duration": 7,
    "start_time": "2021-12-28T13:42:50.636Z"
   },
   {
    "duration": 121,
    "start_time": "2021-12-28T13:45:09.899Z"
   },
   {
    "duration": 12,
    "start_time": "2021-12-28T13:45:26.933Z"
   },
   {
    "duration": 102,
    "start_time": "2021-12-28T13:45:35.977Z"
   },
   {
    "duration": 3,
    "start_time": "2021-12-28T13:45:50.159Z"
   },
   {
    "duration": 3,
    "start_time": "2021-12-28T13:46:31.754Z"
   },
   {
    "duration": 195,
    "start_time": "2021-12-28T13:46:37.079Z"
   },
   {
    "duration": 46,
    "start_time": "2021-12-28T13:46:41.618Z"
   },
   {
    "duration": 35,
    "start_time": "2021-12-28T13:47:39.254Z"
   },
   {
    "duration": 8,
    "start_time": "2021-12-28T13:47:39.645Z"
   },
   {
    "duration": 6,
    "start_time": "2021-12-28T13:47:41.248Z"
   },
   {
    "duration": 646,
    "start_time": "2021-12-28T13:47:45.928Z"
   },
   {
    "duration": 36,
    "start_time": "2021-12-28T13:49:06.435Z"
   },
   {
    "duration": 6,
    "start_time": "2021-12-28T13:49:06.967Z"
   },
   {
    "duration": 8,
    "start_time": "2021-12-28T13:49:07.388Z"
   },
   {
    "duration": 4,
    "start_time": "2021-12-28T13:49:45.087Z"
   },
   {
    "duration": 683,
    "start_time": "2021-12-28T13:51:39.996Z"
   },
   {
    "duration": 670,
    "start_time": "2021-12-28T13:56:53.750Z"
   },
   {
    "duration": 9,
    "start_time": "2021-12-28T13:57:13.698Z"
   },
   {
    "duration": 13,
    "start_time": "2021-12-28T13:57:20.245Z"
   },
   {
    "duration": 521,
    "start_time": "2021-12-28T13:58:08.207Z"
   },
   {
    "duration": 8,
    "start_time": "2021-12-28T13:58:20.983Z"
   },
   {
    "duration": 10,
    "start_time": "2021-12-28T13:58:26.645Z"
   },
   {
    "duration": 8,
    "start_time": "2021-12-28T13:59:28.131Z"
   },
   {
    "duration": 8,
    "start_time": "2021-12-28T14:05:56.743Z"
   },
   {
    "duration": 133,
    "start_time": "2021-12-28T14:06:02.107Z"
   },
   {
    "duration": 4,
    "start_time": "2021-12-28T14:06:05.473Z"
   },
   {
    "duration": 295,
    "start_time": "2021-12-28T14:06:12.147Z"
   },
   {
    "duration": 7,
    "start_time": "2021-12-28T14:06:39.137Z"
   },
   {
    "duration": 280,
    "start_time": "2021-12-28T14:06:39.519Z"
   },
   {
    "duration": 6,
    "start_time": "2021-12-28T14:06:46.184Z"
   },
   {
    "duration": 215,
    "start_time": "2021-12-28T14:06:46.589Z"
   },
   {
    "duration": 10,
    "start_time": "2021-12-28T14:06:54.690Z"
   },
   {
    "duration": 206,
    "start_time": "2021-12-28T14:06:55.156Z"
   },
   {
    "duration": 8,
    "start_time": "2021-12-28T14:08:09.203Z"
   },
   {
    "duration": 212,
    "start_time": "2021-12-28T14:08:09.662Z"
   },
   {
    "duration": 8,
    "start_time": "2021-12-28T14:08:30.185Z"
   },
   {
    "duration": 211,
    "start_time": "2021-12-28T14:08:31.332Z"
   },
   {
    "duration": 3,
    "start_time": "2021-12-28T14:08:34.831Z"
   },
   {
    "duration": 34,
    "start_time": "2021-12-28T14:08:37.301Z"
   },
   {
    "duration": 7,
    "start_time": "2021-12-28T14:08:37.616Z"
   },
   {
    "duration": 6,
    "start_time": "2021-12-28T14:08:37.823Z"
   },
   {
    "duration": 4,
    "start_time": "2021-12-28T14:08:38.318Z"
   },
   {
    "duration": 669,
    "start_time": "2021-12-28T14:08:38.993Z"
   },
   {
    "duration": 7,
    "start_time": "2021-12-28T14:08:40.150Z"
   },
   {
    "duration": 304,
    "start_time": "2021-12-28T14:08:40.751Z"
   },
   {
    "duration": 5,
    "start_time": "2021-12-28T14:09:23.982Z"
   },
   {
    "duration": 336,
    "start_time": "2021-12-28T14:09:24.319Z"
   },
   {
    "duration": 6,
    "start_time": "2021-12-28T14:09:36.622Z"
   },
   {
    "duration": 5,
    "start_time": "2021-12-28T14:09:37.019Z"
   },
   {
    "duration": 286,
    "start_time": "2021-12-28T14:09:37.374Z"
   },
   {
    "duration": 6,
    "start_time": "2021-12-28T14:09:42.332Z"
   },
   {
    "duration": 5,
    "start_time": "2021-12-28T14:09:42.748Z"
   },
   {
    "duration": 476,
    "start_time": "2021-12-28T14:09:43.059Z"
   },
   {
    "duration": 2,
    "start_time": "2021-12-28T14:09:47.849Z"
   },
   {
    "duration": 36,
    "start_time": "2021-12-28T14:09:48.322Z"
   },
   {
    "duration": 6,
    "start_time": "2021-12-28T14:09:48.509Z"
   },
   {
    "duration": 9,
    "start_time": "2021-12-28T14:09:48.695Z"
   },
   {
    "duration": 4,
    "start_time": "2021-12-28T14:09:49.052Z"
   },
   {
    "duration": 694,
    "start_time": "2021-12-28T14:09:49.678Z"
   },
   {
    "duration": 7,
    "start_time": "2021-12-28T14:09:50.619Z"
   },
   {
    "duration": 5,
    "start_time": "2021-12-28T14:09:51.038Z"
   },
   {
    "duration": 348,
    "start_time": "2021-12-28T14:09:51.497Z"
   },
   {
    "duration": 8,
    "start_time": "2021-12-28T14:10:15.790Z"
   },
   {
    "duration": 360,
    "start_time": "2021-12-28T14:10:16.463Z"
   },
   {
    "duration": 5,
    "start_time": "2021-12-28T14:10:20.421Z"
   },
   {
    "duration": 433,
    "start_time": "2021-12-28T14:10:20.776Z"
   },
   {
    "duration": 6,
    "start_time": "2021-12-28T14:10:26.234Z"
   },
   {
    "duration": 363,
    "start_time": "2021-12-28T14:10:26.568Z"
   },
   {
    "duration": 7,
    "start_time": "2021-12-28T14:10:30.394Z"
   },
   {
    "duration": 349,
    "start_time": "2021-12-28T14:10:30.907Z"
   },
   {
    "duration": 12,
    "start_time": "2021-12-28T14:12:35.991Z"
   },
   {
    "duration": 362,
    "start_time": "2021-12-28T14:12:36.675Z"
   },
   {
    "duration": 6,
    "start_time": "2021-12-28T14:16:59.988Z"
   },
   {
    "duration": 3,
    "start_time": "2021-12-28T14:17:03.615Z"
   },
   {
    "duration": 41,
    "start_time": "2021-12-28T14:17:04.071Z"
   },
   {
    "duration": 9,
    "start_time": "2021-12-28T14:17:04.297Z"
   },
   {
    "duration": 6,
    "start_time": "2021-12-28T14:17:04.552Z"
   },
   {
    "duration": 4,
    "start_time": "2021-12-28T14:17:05.431Z"
   },
   {
    "duration": 7,
    "start_time": "2021-12-28T14:17:06.265Z"
   },
   {
    "duration": 505,
    "start_time": "2021-12-28T14:17:06.675Z"
   },
   {
    "duration": 7,
    "start_time": "2021-12-28T14:17:10.293Z"
   },
   {
    "duration": 354,
    "start_time": "2021-12-28T14:20:16.845Z"
   },
   {
    "duration": 159,
    "start_time": "2021-12-28T14:20:25.997Z"
   },
   {
    "duration": 3,
    "start_time": "2021-12-28T14:20:41.410Z"
   },
   {
    "duration": 35,
    "start_time": "2021-12-28T14:20:42.008Z"
   },
   {
    "duration": 8,
    "start_time": "2021-12-28T14:20:42.197Z"
   },
   {
    "duration": 6,
    "start_time": "2021-12-28T14:20:42.363Z"
   },
   {
    "duration": 3,
    "start_time": "2021-12-28T14:20:42.935Z"
   },
   {
    "duration": 9,
    "start_time": "2021-12-28T14:20:43.696Z"
   },
   {
    "duration": 303,
    "start_time": "2021-12-28T14:20:43.999Z"
   },
   {
    "duration": 7,
    "start_time": "2021-12-28T14:20:46.008Z"
   },
   {
    "duration": 1085,
    "start_time": "2021-12-28T14:21:03.019Z"
   },
   {
    "duration": 1278,
    "start_time": "2021-12-28T14:21:40.994Z"
   },
   {
    "duration": 5,
    "start_time": "2021-12-28T14:26:28.712Z"
   },
   {
    "duration": 4,
    "start_time": "2021-12-28T14:26:33.885Z"
   },
   {
    "duration": 146,
    "start_time": "2021-12-28T14:26:37.587Z"
   },
   {
    "duration": 156,
    "start_time": "2021-12-28T14:26:50.008Z"
   },
   {
    "duration": 5,
    "start_time": "2021-12-28T14:27:00.282Z"
   },
   {
    "duration": 6,
    "start_time": "2021-12-28T14:27:03.626Z"
   },
   {
    "duration": 4,
    "start_time": "2021-12-28T14:27:18.001Z"
   },
   {
    "duration": 33,
    "start_time": "2021-12-28T14:27:18.433Z"
   },
   {
    "duration": 6,
    "start_time": "2021-12-28T14:27:18.760Z"
   },
   {
    "duration": 6,
    "start_time": "2021-12-28T14:27:18.918Z"
   },
   {
    "duration": 4,
    "start_time": "2021-12-28T14:27:19.271Z"
   },
   {
    "duration": 7,
    "start_time": "2021-12-28T14:27:20.366Z"
   },
   {
    "duration": 326,
    "start_time": "2021-12-28T14:27:20.582Z"
   },
   {
    "duration": 6,
    "start_time": "2021-12-28T14:27:22.281Z"
   },
   {
    "duration": 1280,
    "start_time": "2021-12-28T14:27:22.630Z"
   },
   {
    "duration": 12,
    "start_time": "2021-12-28T14:27:29.488Z"
   },
   {
    "duration": 4,
    "start_time": "2021-12-28T14:27:37.660Z"
   },
   {
    "duration": 9,
    "start_time": "2021-12-28T14:27:38.072Z"
   },
   {
    "duration": 250,
    "start_time": "2021-12-28T14:27:45.356Z"
   },
   {
    "duration": 8,
    "start_time": "2021-12-28T14:27:55.055Z"
   },
   {
    "duration": 981,
    "start_time": "2021-12-28T14:27:55.483Z"
   },
   {
    "duration": 4,
    "start_time": "2021-12-28T14:28:53.160Z"
   },
   {
    "duration": 416,
    "start_time": "2021-12-28T14:28:53.532Z"
   },
   {
    "duration": 201,
    "start_time": "2021-12-28T14:29:08.323Z"
   },
   {
    "duration": 322,
    "start_time": "2021-12-28T14:29:38.760Z"
   },
   {
    "duration": 232,
    "start_time": "2021-12-28T14:29:47.413Z"
   },
   {
    "duration": 258,
    "start_time": "2021-12-28T14:29:50.407Z"
   },
   {
    "duration": 235,
    "start_time": "2021-12-28T14:29:54.274Z"
   },
   {
    "duration": 238,
    "start_time": "2021-12-28T14:29:59.344Z"
   },
   {
    "duration": 4,
    "start_time": "2021-12-28T14:30:13.857Z"
   },
   {
    "duration": 3,
    "start_time": "2021-12-28T14:31:42.639Z"
   },
   {
    "duration": 33,
    "start_time": "2021-12-28T14:31:43.116Z"
   },
   {
    "duration": 7,
    "start_time": "2021-12-28T14:31:43.303Z"
   },
   {
    "duration": 7,
    "start_time": "2021-12-28T14:31:43.484Z"
   },
   {
    "duration": 5,
    "start_time": "2021-12-28T14:31:43.826Z"
   },
   {
    "duration": 8,
    "start_time": "2021-12-28T14:31:44.139Z"
   },
   {
    "duration": 308,
    "start_time": "2021-12-28T14:31:44.285Z"
   },
   {
    "duration": 5,
    "start_time": "2021-12-28T14:31:45.760Z"
   },
   {
    "duration": 7,
    "start_time": "2021-12-28T14:31:46.713Z"
   },
   {
    "duration": 852,
    "start_time": "2021-12-28T14:31:47.542Z"
   },
   {
    "duration": 4,
    "start_time": "2021-12-28T14:35:02.131Z"
   },
   {
    "duration": 37,
    "start_time": "2021-12-28T14:35:02.548Z"
   },
   {
    "duration": 8,
    "start_time": "2021-12-28T14:35:02.685Z"
   },
   {
    "duration": 6,
    "start_time": "2021-12-28T14:35:02.837Z"
   },
   {
    "duration": 4,
    "start_time": "2021-12-28T14:35:03.159Z"
   },
   {
    "duration": 7,
    "start_time": "2021-12-28T14:35:03.666Z"
   },
   {
    "duration": 303,
    "start_time": "2021-12-28T14:35:03.937Z"
   },
   {
    "duration": 5,
    "start_time": "2021-12-28T14:35:06.013Z"
   },
   {
    "duration": 6,
    "start_time": "2021-12-28T14:35:06.914Z"
   },
   {
    "duration": 947,
    "start_time": "2021-12-28T14:35:07.297Z"
   },
   {
    "duration": 258,
    "start_time": "2021-12-28T14:36:29.058Z"
   },
   {
    "duration": 6,
    "start_time": "2021-12-28T14:36:52.201Z"
   },
   {
    "duration": 299,
    "start_time": "2021-12-28T14:36:54.485Z"
   },
   {
    "duration": 5,
    "start_time": "2021-12-28T14:37:08.179Z"
   },
   {
    "duration": 6,
    "start_time": "2021-12-28T14:37:11.963Z"
   },
   {
    "duration": 10,
    "start_time": "2021-12-28T14:37:12.602Z"
   },
   {
    "duration": 258,
    "start_time": "2021-12-28T14:37:13.559Z"
   },
   {
    "duration": 6,
    "start_time": "2021-12-28T14:38:14.972Z"
   },
   {
    "duration": 263,
    "start_time": "2021-12-28T14:38:15.229Z"
   },
   {
    "duration": 5,
    "start_time": "2021-12-28T14:38:19.510Z"
   },
   {
    "duration": 264,
    "start_time": "2021-12-28T14:38:19.795Z"
   },
   {
    "duration": 265,
    "start_time": "2021-12-28T14:39:14.639Z"
   },
   {
    "duration": 133,
    "start_time": "2021-12-28T14:40:09.827Z"
   },
   {
    "duration": 145,
    "start_time": "2021-12-28T14:40:12.507Z"
   },
   {
    "duration": 6,
    "start_time": "2021-12-28T14:40:17.690Z"
   },
   {
    "duration": 7,
    "start_time": "2021-12-28T14:40:36.177Z"
   },
   {
    "duration": 1062,
    "start_time": "2021-12-28T14:40:37.441Z"
   },
   {
    "duration": 4087,
    "start_time": "2021-12-28T14:47:54.810Z"
   },
   {
    "duration": 7,
    "start_time": "2021-12-28T14:48:21.766Z"
   },
   {
    "duration": 255,
    "start_time": "2021-12-28T14:48:22.258Z"
   },
   {
    "duration": 6,
    "start_time": "2021-12-28T14:48:58.811Z"
   },
   {
    "duration": 9,
    "start_time": "2021-12-28T14:49:03.071Z"
   },
   {
    "duration": 236,
    "start_time": "2021-12-28T14:49:03.955Z"
   },
   {
    "duration": 9,
    "start_time": "2021-12-28T14:49:06.729Z"
   },
   {
    "duration": 268,
    "start_time": "2021-12-28T14:49:07.064Z"
   },
   {
    "duration": 2,
    "start_time": "2021-12-28T14:49:54.774Z"
   },
   {
    "duration": 36,
    "start_time": "2021-12-28T14:49:55.304Z"
   },
   {
    "duration": 7,
    "start_time": "2021-12-28T14:49:55.342Z"
   },
   {
    "duration": 7,
    "start_time": "2021-12-28T14:49:55.366Z"
   },
   {
    "duration": 5,
    "start_time": "2021-12-28T14:49:55.430Z"
   },
   {
    "duration": 7,
    "start_time": "2021-12-28T14:49:55.483Z"
   },
   {
    "duration": 324,
    "start_time": "2021-12-28T14:49:55.514Z"
   },
   {
    "duration": 5,
    "start_time": "2021-12-28T14:49:55.840Z"
   },
   {
    "duration": 9,
    "start_time": "2021-12-28T14:49:55.847Z"
   },
   {
    "duration": 305,
    "start_time": "2021-12-28T14:49:55.858Z"
   },
   {
    "duration": 5,
    "start_time": "2021-12-28T14:49:56.165Z"
   },
   {
    "duration": 813,
    "start_time": "2021-12-28T14:49:56.172Z"
   },
   {
    "duration": 8,
    "start_time": "2021-12-28T14:49:56.987Z"
   },
   {
    "duration": 267,
    "start_time": "2021-12-28T14:49:56.997Z"
   },
   {
    "duration": 90,
    "start_time": "2021-12-28T14:57:01.550Z"
   },
   {
    "duration": 6,
    "start_time": "2021-12-28T15:02:10.823Z"
   },
   {
    "duration": 407,
    "start_time": "2021-12-28T15:02:39.936Z"
   },
   {
    "duration": 43,
    "start_time": "2021-12-28T15:02:45.447Z"
   },
   {
    "duration": 5,
    "start_time": "2021-12-28T15:02:48.034Z"
   },
   {
    "duration": 11,
    "start_time": "2021-12-28T15:03:21.063Z"
   },
   {
    "duration": 3,
    "start_time": "2021-12-28T15:03:56.027Z"
   },
   {
    "duration": 5,
    "start_time": "2021-12-28T15:03:57.079Z"
   },
   {
    "duration": 7,
    "start_time": "2021-12-28T15:03:57.460Z"
   },
   {
    "duration": 14,
    "start_time": "2021-12-28T15:03:58.114Z"
   },
   {
    "duration": 6,
    "start_time": "2021-12-28T15:04:41.521Z"
   },
   {
    "duration": 35,
    "start_time": "2021-12-28T15:04:42.052Z"
   },
   {
    "duration": 12,
    "start_time": "2021-12-28T15:04:42.090Z"
   },
   {
    "duration": 18,
    "start_time": "2021-12-28T15:04:42.111Z"
   },
   {
    "duration": 5,
    "start_time": "2021-12-28T15:04:42.174Z"
   },
   {
    "duration": 8,
    "start_time": "2021-12-28T15:04:42.233Z"
   },
   {
    "duration": 306,
    "start_time": "2021-12-28T15:04:42.262Z"
   },
   {
    "duration": 4,
    "start_time": "2021-12-28T15:04:42.570Z"
   },
   {
    "duration": 6,
    "start_time": "2021-12-28T15:04:42.591Z"
   },
   {
    "duration": 267,
    "start_time": "2021-12-28T15:04:42.600Z"
   },
   {
    "duration": 6,
    "start_time": "2021-12-28T15:04:42.869Z"
   },
   {
    "duration": 809,
    "start_time": "2021-12-28T15:04:42.893Z"
   },
   {
    "duration": 8,
    "start_time": "2021-12-28T15:04:43.704Z"
   },
   {
    "duration": 270,
    "start_time": "2021-12-28T15:04:43.714Z"
   },
   {
    "duration": 943,
    "start_time": "2021-12-28T15:04:45.011Z"
   },
   {
    "duration": 296,
    "start_time": "2021-12-28T15:05:04.367Z"
   },
   {
    "duration": 930,
    "start_time": "2021-12-28T15:05:07.553Z"
   },
   {
    "duration": 6,
    "start_time": "2021-12-28T15:05:41.801Z"
   },
   {
    "duration": 5,
    "start_time": "2021-12-28T15:05:44.318Z"
   },
   {
    "duration": 6,
    "start_time": "2021-12-28T15:05:45.146Z"
   },
   {
    "duration": 8,
    "start_time": "2021-12-28T15:05:46.033Z"
   },
   {
    "duration": 6,
    "start_time": "2021-12-28T15:05:52.919Z"
   },
   {
    "duration": 9,
    "start_time": "2021-12-28T15:05:53.759Z"
   },
   {
    "duration": 7,
    "start_time": "2021-12-28T15:06:19.490Z"
   },
   {
    "duration": 5,
    "start_time": "2021-12-28T15:13:03.424Z"
   },
   {
    "duration": 5,
    "start_time": "2021-12-28T15:13:09.913Z"
   },
   {
    "duration": 5,
    "start_time": "2021-12-28T15:14:22.508Z"
   },
   {
    "duration": 5,
    "start_time": "2021-12-28T15:14:46.852Z"
   },
   {
    "duration": 7,
    "start_time": "2021-12-28T15:14:50.285Z"
   },
   {
    "duration": 7,
    "start_time": "2021-12-28T15:14:53.437Z"
   },
   {
    "duration": 5,
    "start_time": "2021-12-28T15:15:25.264Z"
   },
   {
    "duration": 6,
    "start_time": "2021-12-28T15:21:33.808Z"
   },
   {
    "duration": 7,
    "start_time": "2021-12-28T15:33:43.041Z"
   },
   {
    "duration": 5,
    "start_time": "2021-12-28T15:38:22.777Z"
   },
   {
    "duration": 7,
    "start_time": "2021-12-28T15:38:23.495Z"
   },
   {
    "duration": 41,
    "start_time": "2021-12-28T15:38:24.501Z"
   },
   {
    "duration": 4,
    "start_time": "2021-12-28T15:38:29.499Z"
   },
   {
    "duration": 3430,
    "start_time": "2021-12-28T15:38:30.428Z"
   },
   {
    "duration": 4,
    "start_time": "2021-12-28T15:39:21.593Z"
   },
   {
    "duration": 12,
    "start_time": "2021-12-28T15:39:22.042Z"
   },
   {
    "duration": 5,
    "start_time": "2021-12-28T15:39:25.518Z"
   },
   {
    "duration": 4,
    "start_time": "2021-12-28T15:39:26.254Z"
   },
   {
    "duration": 4,
    "start_time": "2021-12-28T15:40:19.111Z"
   },
   {
    "duration": 4,
    "start_time": "2021-12-28T15:40:38.361Z"
   },
   {
    "duration": 6,
    "start_time": "2021-12-28T15:42:59.719Z"
   },
   {
    "duration": 146,
    "start_time": "2021-12-28T15:45:01.209Z"
   },
   {
    "duration": 7,
    "start_time": "2021-12-28T15:45:24.029Z"
   },
   {
    "duration": 131,
    "start_time": "2021-12-28T15:45:31.585Z"
   },
   {
    "duration": 134,
    "start_time": "2021-12-28T15:45:34.676Z"
   },
   {
    "duration": 6,
    "start_time": "2021-12-28T15:45:39.412Z"
   },
   {
    "duration": 17,
    "start_time": "2021-12-28T15:45:50.242Z"
   },
   {
    "duration": 4,
    "start_time": "2021-12-28T15:47:04.074Z"
   },
   {
    "duration": 4,
    "start_time": "2021-12-28T15:47:05.631Z"
   },
   {
    "duration": 6,
    "start_time": "2021-12-28T15:47:08.551Z"
   },
   {
    "duration": 4,
    "start_time": "2021-12-28T15:47:43.429Z"
   },
   {
    "duration": 7,
    "start_time": "2021-12-28T15:48:21.581Z"
   },
   {
    "duration": 9,
    "start_time": "2021-12-28T15:48:55.167Z"
   },
   {
    "duration": 8,
    "start_time": "2021-12-28T15:48:59.210Z"
   },
   {
    "duration": 23,
    "start_time": "2021-12-28T15:52:49.281Z"
   },
   {
    "duration": 170,
    "start_time": "2021-12-28T15:54:00.040Z"
   },
   {
    "duration": 169,
    "start_time": "2021-12-28T15:54:12.345Z"
   },
   {
    "duration": 23,
    "start_time": "2021-12-28T15:54:16.038Z"
   },
   {
    "duration": 7,
    "start_time": "2021-12-28T15:54:31.310Z"
   },
   {
    "duration": 7,
    "start_time": "2021-12-28T15:54:51.736Z"
   },
   {
    "duration": 30,
    "start_time": "2021-12-28T15:55:01.196Z"
   },
   {
    "duration": 8,
    "start_time": "2021-12-28T15:55:24.010Z"
   },
   {
    "duration": 21,
    "start_time": "2021-12-28T15:55:47.467Z"
   },
   {
    "duration": 6,
    "start_time": "2021-12-28T15:55:55.075Z"
   },
   {
    "duration": 22,
    "start_time": "2021-12-28T15:55:56.008Z"
   },
   {
    "duration": 8,
    "start_time": "2021-12-28T15:55:58.162Z"
   },
   {
    "duration": 20,
    "start_time": "2021-12-28T15:55:59.112Z"
   },
   {
    "duration": 124,
    "start_time": "2021-12-28T15:56:08.936Z"
   },
   {
    "duration": 7,
    "start_time": "2021-12-28T15:56:15.517Z"
   },
   {
    "duration": 7,
    "start_time": "2021-12-28T15:56:16.918Z"
   },
   {
    "duration": 22,
    "start_time": "2021-12-28T15:56:23.335Z"
   },
   {
    "duration": 22,
    "start_time": "2021-12-28T15:56:24.954Z"
   },
   {
    "duration": 168,
    "start_time": "2021-12-28T16:00:30.405Z"
   },
   {
    "duration": 146,
    "start_time": "2021-12-28T16:01:11.720Z"
   },
   {
    "duration": 52,
    "start_time": "2021-12-28T16:01:18.255Z"
   },
   {
    "duration": 69,
    "start_time": "2021-12-28T16:01:24.917Z"
   },
   {
    "duration": 73,
    "start_time": "2021-12-28T16:01:29.501Z"
   },
   {
    "duration": 51,
    "start_time": "2021-12-28T16:01:41.713Z"
   },
   {
    "duration": 43,
    "start_time": "2021-12-28T16:01:44.788Z"
   },
   {
    "duration": 60,
    "start_time": "2021-12-28T16:02:02.765Z"
   },
   {
    "duration": 62,
    "start_time": "2021-12-28T16:02:06.459Z"
   },
   {
    "duration": 141,
    "start_time": "2021-12-28T16:06:14.169Z"
   },
   {
    "duration": 244,
    "start_time": "2021-12-28T16:06:22.225Z"
   },
   {
    "duration": 177,
    "start_time": "2021-12-28T16:06:39.934Z"
   },
   {
    "duration": 284,
    "start_time": "2021-12-28T16:06:43.493Z"
   },
   {
    "duration": 177,
    "start_time": "2021-12-28T16:06:47.614Z"
   },
   {
    "duration": 889,
    "start_time": "2021-12-28T16:06:54.445Z"
   },
   {
    "duration": 288,
    "start_time": "2021-12-28T16:07:07.424Z"
   },
   {
    "duration": 72,
    "start_time": "2021-12-28T16:07:12.623Z"
   },
   {
    "duration": 129,
    "start_time": "2021-12-28T16:07:16.191Z"
   },
   {
    "duration": 21,
    "start_time": "2021-12-28T16:07:18.125Z"
   },
   {
    "duration": 44,
    "start_time": "2021-12-28T16:07:21.221Z"
   },
   {
    "duration": 902,
    "start_time": "2021-12-28T16:07:43.753Z"
   },
   {
    "duration": 32,
    "start_time": "2021-12-28T16:07:59.535Z"
   },
   {
    "duration": 50,
    "start_time": "2021-12-28T16:08:13.757Z"
   },
   {
    "duration": 52,
    "start_time": "2021-12-28T16:09:04.276Z"
   },
   {
    "duration": 55,
    "start_time": "2021-12-28T16:11:55.702Z"
   },
   {
    "duration": 7,
    "start_time": "2021-12-28T16:12:11.361Z"
   },
   {
    "duration": 23,
    "start_time": "2021-12-28T16:12:32.209Z"
   },
   {
    "duration": 922,
    "start_time": "2021-12-28T16:13:02.956Z"
   },
   {
    "duration": 23,
    "start_time": "2021-12-28T16:13:06.504Z"
   },
   {
    "duration": 8,
    "start_time": "2021-12-28T16:13:12.875Z"
   },
   {
    "duration": 24,
    "start_time": "2021-12-28T16:13:18.672Z"
   },
   {
    "duration": 927,
    "start_time": "2021-12-28T16:13:19.741Z"
   },
   {
    "duration": 52,
    "start_time": "2021-12-28T16:13:21.213Z"
   },
   {
    "duration": 50,
    "start_time": "2021-12-28T16:13:22.273Z"
   },
   {
    "duration": 52,
    "start_time": "2021-12-28T16:13:32.239Z"
   },
   {
    "duration": 7,
    "start_time": "2021-12-28T16:19:46.950Z"
   },
   {
    "duration": 7,
    "start_time": "2021-12-28T16:20:04.620Z"
   },
   {
    "duration": 16,
    "start_time": "2021-12-28T16:20:08.802Z"
   },
   {
    "duration": 153,
    "start_time": "2021-12-28T16:21:04.315Z"
   },
   {
    "duration": 137,
    "start_time": "2021-12-28T16:21:17.052Z"
   },
   {
    "duration": 4,
    "start_time": "2021-12-28T16:21:33.670Z"
   },
   {
    "duration": 164,
    "start_time": "2021-12-28T16:21:37.249Z"
   },
   {
    "duration": 3,
    "start_time": "2021-12-28T16:21:53.041Z"
   },
   {
    "duration": 7,
    "start_time": "2021-12-28T16:22:02.795Z"
   },
   {
    "duration": 143,
    "start_time": "2021-12-28T16:22:13.230Z"
   },
   {
    "duration": 135,
    "start_time": "2021-12-28T16:22:28.381Z"
   },
   {
    "duration": 176,
    "start_time": "2021-12-28T16:22:37.479Z"
   },
   {
    "duration": 6,
    "start_time": "2021-12-28T16:23:24.564Z"
   },
   {
    "duration": 6,
    "start_time": "2021-12-28T16:23:42.759Z"
   },
   {
    "duration": 42,
    "start_time": "2021-12-28T16:24:48.156Z"
   },
   {
    "duration": 3228,
    "start_time": "2021-12-28T16:25:35.486Z"
   },
   {
    "duration": 132,
    "start_time": "2021-12-28T16:26:23.718Z"
   },
   {
    "duration": 162,
    "start_time": "2021-12-28T16:26:30.598Z"
   },
   {
    "duration": 145,
    "start_time": "2021-12-28T16:26:36.663Z"
   },
   {
    "duration": 4418,
    "start_time": "2021-12-28T16:40:00.628Z"
   },
   {
    "duration": 140,
    "start_time": "2021-12-28T16:40:15.227Z"
   },
   {
    "duration": 4453,
    "start_time": "2021-12-28T16:40:31.205Z"
   },
   {
    "duration": 5,
    "start_time": "2021-12-28T16:40:39.112Z"
   },
   {
    "duration": 5,
    "start_time": "2021-12-28T16:41:27.722Z"
   },
   {
    "duration": 41,
    "start_time": "2021-12-28T16:42:04.218Z"
   },
   {
    "duration": 1035,
    "start_time": "2021-12-28T16:49:23.946Z"
   },
   {
    "duration": 40,
    "start_time": "2021-12-28T16:49:24.983Z"
   },
   {
    "duration": 9,
    "start_time": "2021-12-28T16:49:25.025Z"
   },
   {
    "duration": 9,
    "start_time": "2021-12-28T16:49:25.036Z"
   },
   {
    "duration": 3,
    "start_time": "2021-12-28T16:49:25.047Z"
   },
   {
    "duration": 10,
    "start_time": "2021-12-28T16:49:25.052Z"
   },
   {
    "duration": 320,
    "start_time": "2021-12-28T16:49:25.064Z"
   },
   {
    "duration": 9,
    "start_time": "2021-12-28T16:49:25.386Z"
   },
   {
    "duration": 8,
    "start_time": "2021-12-28T16:49:25.397Z"
   },
   {
    "duration": 264,
    "start_time": "2021-12-28T16:49:25.407Z"
   },
   {
    "duration": 6,
    "start_time": "2021-12-28T16:49:25.673Z"
   },
   {
    "duration": 806,
    "start_time": "2021-12-28T16:49:25.681Z"
   },
   {
    "duration": 8,
    "start_time": "2021-12-28T16:49:26.491Z"
   },
   {
    "duration": 298,
    "start_time": "2021-12-28T16:49:26.501Z"
   },
   {
    "duration": 3,
    "start_time": "2021-12-28T16:49:26.801Z"
   },
   {
    "duration": 9,
    "start_time": "2021-12-28T16:49:26.806Z"
   },
   {
    "duration": 8,
    "start_time": "2021-12-28T16:49:26.816Z"
   },
   {
    "duration": 7,
    "start_time": "2021-12-28T16:49:26.826Z"
   },
   {
    "duration": 101,
    "start_time": "2021-12-28T16:49:26.835Z"
   },
   {
    "duration": 5,
    "start_time": "2021-12-28T16:49:26.938Z"
   },
   {
    "duration": 7,
    "start_time": "2021-12-28T16:49:26.944Z"
   },
   {
    "duration": 7,
    "start_time": "2021-12-28T16:49:26.952Z"
   },
   {
    "duration": 7,
    "start_time": "2021-12-28T16:49:26.962Z"
   },
   {
    "duration": 27,
    "start_time": "2021-12-28T16:49:26.970Z"
   },
   {
    "duration": 26,
    "start_time": "2021-12-28T16:49:26.999Z"
   },
   {
    "duration": 960,
    "start_time": "2021-12-28T16:49:27.026Z"
   },
   {
    "duration": 59,
    "start_time": "2021-12-28T16:49:27.991Z"
   },
   {
    "duration": 7,
    "start_time": "2021-12-28T16:49:28.052Z"
   },
   {
    "duration": 5,
    "start_time": "2021-12-28T16:49:28.061Z"
   },
   {
    "duration": 7,
    "start_time": "2021-12-28T16:49:28.092Z"
   },
   {
    "duration": 1681,
    "start_time": "2021-12-28T17:20:00.438Z"
   },
   {
    "duration": 47,
    "start_time": "2021-12-28T17:20:02.122Z"
   },
   {
    "duration": 15,
    "start_time": "2021-12-28T17:20:02.172Z"
   },
   {
    "duration": 35,
    "start_time": "2021-12-28T17:20:02.191Z"
   },
   {
    "duration": 6,
    "start_time": "2021-12-28T17:20:03.223Z"
   },
   {
    "duration": 11,
    "start_time": "2021-12-28T17:20:05.728Z"
   },
   {
    "duration": 107882,
    "start_time": "2021-12-28T17:20:06.175Z"
   },
   {
    "duration": 7,
    "start_time": "2021-12-28T17:21:54.060Z"
   },
   {
    "duration": 8,
    "start_time": "2021-12-28T17:21:54.070Z"
   },
   {
    "duration": 460,
    "start_time": "2021-12-28T17:21:54.118Z"
   },
   {
    "duration": 9,
    "start_time": "2021-12-28T17:21:54.581Z"
   },
   {
    "duration": 1112,
    "start_time": "2021-12-28T17:21:54.592Z"
   },
   {
    "duration": 17,
    "start_time": "2021-12-28T17:21:55.707Z"
   },
   {
    "duration": 412,
    "start_time": "2021-12-28T17:21:55.727Z"
   },
   {
    "duration": 7,
    "start_time": "2021-12-28T17:26:02.074Z"
   },
   {
    "duration": 7,
    "start_time": "2021-12-28T17:26:03.616Z"
   },
   {
    "duration": 9,
    "start_time": "2021-12-28T17:26:04.461Z"
   },
   {
    "duration": 6,
    "start_time": "2021-12-28T17:26:06.136Z"
   },
   {
    "duration": 17,
    "start_time": "2021-12-28T17:26:06.895Z"
   },
   {
    "duration": 6,
    "start_time": "2021-12-28T17:26:07.522Z"
   },
   {
    "duration": 5,
    "start_time": "2021-12-28T17:28:06.500Z"
   },
   {
    "duration": 7,
    "start_time": "2021-12-28T17:28:07.265Z"
   },
   {
    "duration": 8,
    "start_time": "2021-12-28T17:28:12.265Z"
   },
   {
    "duration": 7,
    "start_time": "2021-12-28T17:28:12.793Z"
   },
   {
    "duration": 9,
    "start_time": "2021-12-28T17:28:46.422Z"
   },
   {
    "duration": 31,
    "start_time": "2021-12-28T17:28:47.912Z"
   },
   {
    "duration": 1394,
    "start_time": "2021-12-28T17:28:49.065Z"
   },
   {
    "duration": 109,
    "start_time": "2021-12-28T17:28:50.462Z"
   },
   {
    "duration": 8,
    "start_time": "2021-12-28T17:28:59.350Z"
   },
   {
    "duration": 7,
    "start_time": "2021-12-28T17:28:59.641Z"
   },
   {
    "duration": 7,
    "start_time": "2021-12-28T17:29:00.389Z"
   },
   {
    "duration": 171,
    "start_time": "2021-12-29T10:48:41.821Z"
   },
   {
    "duration": 1099,
    "start_time": "2021-12-29T10:48:44.270Z"
   },
   {
    "duration": 38,
    "start_time": "2021-12-29T10:48:45.371Z"
   },
   {
    "duration": 9,
    "start_time": "2021-12-29T10:48:45.411Z"
   },
   {
    "duration": 6,
    "start_time": "2021-12-29T10:48:45.560Z"
   },
   {
    "duration": 5,
    "start_time": "2021-12-29T10:48:46.471Z"
   },
   {
    "duration": 12,
    "start_time": "2021-12-29T10:48:47.217Z"
   },
   {
    "duration": 296,
    "start_time": "2021-12-29T10:48:48.167Z"
   },
   {
    "duration": 5,
    "start_time": "2021-12-29T10:48:53.153Z"
   },
   {
    "duration": 6,
    "start_time": "2021-12-29T10:49:00.811Z"
   },
   {
    "duration": 278,
    "start_time": "2021-12-29T10:49:01.437Z"
   },
   {
    "duration": 12,
    "start_time": "2021-12-29T10:49:03.464Z"
   },
   {
    "duration": 762,
    "start_time": "2021-12-29T10:49:03.943Z"
   },
   {
    "duration": 9,
    "start_time": "2021-12-29T10:49:04.713Z"
   },
   {
    "duration": 265,
    "start_time": "2021-12-29T10:49:05.453Z"
   },
   {
    "duration": 5,
    "start_time": "2021-12-29T10:55:40.850Z"
   },
   {
    "duration": 6,
    "start_time": "2021-12-29T10:55:42.093Z"
   },
   {
    "duration": 8,
    "start_time": "2021-12-29T10:55:43.323Z"
   },
   {
    "duration": 6,
    "start_time": "2021-12-29T10:55:46.069Z"
   },
   {
    "duration": 5,
    "start_time": "2021-12-29T10:55:51.437Z"
   },
   {
    "duration": 17,
    "start_time": "2021-12-29T10:55:56.605Z"
   },
   {
    "duration": 19,
    "start_time": "2021-12-29T10:56:02.606Z"
   },
   {
    "duration": 6,
    "start_time": "2021-12-29T10:56:25.582Z"
   },
   {
    "duration": 2,
    "start_time": "2021-12-29T10:56:35.750Z"
   },
   {
    "duration": 7,
    "start_time": "2021-12-29T10:56:36.295Z"
   },
   {
    "duration": 3,
    "start_time": "2021-12-29T10:57:10.053Z"
   },
   {
    "duration": 8,
    "start_time": "2021-12-29T10:57:13.368Z"
   },
   {
    "duration": 3,
    "start_time": "2021-12-29T10:57:20.198Z"
   },
   {
    "duration": 2,
    "start_time": "2021-12-29T10:57:20.407Z"
   },
   {
    "duration": 39,
    "start_time": "2021-12-29T10:57:20.866Z"
   },
   {
    "duration": 7,
    "start_time": "2021-12-29T10:57:21.058Z"
   },
   {
    "duration": 6,
    "start_time": "2021-12-29T10:57:21.558Z"
   },
   {
    "duration": 5,
    "start_time": "2021-12-29T10:57:21.626Z"
   },
   {
    "duration": 9,
    "start_time": "2021-12-29T10:57:21.698Z"
   },
   {
    "duration": 313,
    "start_time": "2021-12-29T10:57:21.758Z"
   },
   {
    "duration": 6,
    "start_time": "2021-12-29T10:57:22.073Z"
   },
   {
    "duration": 10,
    "start_time": "2021-12-29T10:57:22.093Z"
   },
   {
    "duration": 298,
    "start_time": "2021-12-29T10:57:22.105Z"
   },
   {
    "duration": 7,
    "start_time": "2021-12-29T10:57:22.405Z"
   },
   {
    "duration": 824,
    "start_time": "2021-12-29T10:57:22.414Z"
   },
   {
    "duration": 10,
    "start_time": "2021-12-29T10:57:23.240Z"
   },
   {
    "duration": 297,
    "start_time": "2021-12-29T10:57:23.252Z"
   },
   {
    "duration": 4,
    "start_time": "2021-12-29T10:57:23.974Z"
   },
   {
    "duration": 6,
    "start_time": "2021-12-29T10:57:24.369Z"
   },
   {
    "duration": 8,
    "start_time": "2021-12-29T10:57:24.573Z"
   },
   {
    "duration": 5,
    "start_time": "2021-12-29T10:57:25.189Z"
   },
   {
    "duration": 12,
    "start_time": "2021-12-29T10:57:26.776Z"
   },
   {
    "duration": 5,
    "start_time": "2021-12-29T10:57:27.340Z"
   },
   {
    "duration": 5,
    "start_time": "2021-12-29T10:57:29.559Z"
   },
   {
    "duration": 5,
    "start_time": "2021-12-29T10:57:30.453Z"
   },
   {
    "duration": 5,
    "start_time": "2021-12-29T10:57:31.028Z"
   },
   {
    "duration": 8,
    "start_time": "2021-12-29T10:57:32.850Z"
   },
   {
    "duration": 23,
    "start_time": "2021-12-29T10:57:35.973Z"
   },
   {
    "duration": 928,
    "start_time": "2021-12-29T10:57:38.464Z"
   },
   {
    "duration": 52,
    "start_time": "2021-12-29T10:57:49.111Z"
   },
   {
    "duration": 6,
    "start_time": "2021-12-29T10:57:57.766Z"
   },
   {
    "duration": 6,
    "start_time": "2021-12-29T10:57:59.744Z"
   },
   {
    "duration": 333,
    "start_time": "2021-12-29T10:58:56.809Z"
   },
   {
    "duration": 7,
    "start_time": "2021-12-29T11:00:40.523Z"
   },
   {
    "duration": 2,
    "start_time": "2021-12-29T11:02:03.218Z"
   },
   {
    "duration": 36,
    "start_time": "2021-12-29T11:02:03.746Z"
   },
   {
    "duration": 6,
    "start_time": "2021-12-29T11:02:03.789Z"
   },
   {
    "duration": 14,
    "start_time": "2021-12-29T11:02:03.817Z"
   },
   {
    "duration": 4,
    "start_time": "2021-12-29T11:02:03.873Z"
   },
   {
    "duration": 9,
    "start_time": "2021-12-29T11:02:03.929Z"
   },
   {
    "duration": 302,
    "start_time": "2021-12-29T11:02:03.957Z"
   },
   {
    "duration": 5,
    "start_time": "2021-12-29T11:02:04.260Z"
   },
   {
    "duration": 29,
    "start_time": "2021-12-29T11:02:04.266Z"
   },
   {
    "duration": 329,
    "start_time": "2021-12-29T11:02:04.297Z"
   },
   {
    "duration": 6,
    "start_time": "2021-12-29T11:02:04.628Z"
   },
   {
    "duration": 999,
    "start_time": "2021-12-29T11:02:04.636Z"
   },
   {
    "duration": 8,
    "start_time": "2021-12-29T11:02:05.637Z"
   },
   {
    "duration": 334,
    "start_time": "2021-12-29T11:02:05.647Z"
   },
   {
    "duration": 10,
    "start_time": "2021-12-29T11:02:05.983Z"
   },
   {
    "duration": 28,
    "start_time": "2021-12-29T11:02:05.994Z"
   },
   {
    "duration": 34,
    "start_time": "2021-12-29T11:02:06.024Z"
   },
   {
    "duration": 25,
    "start_time": "2021-12-29T11:02:06.060Z"
   },
   {
    "duration": 11,
    "start_time": "2021-12-29T11:02:07.045Z"
   },
   {
    "duration": 6,
    "start_time": "2021-12-29T11:02:07.575Z"
   },
   {
    "duration": 5,
    "start_time": "2021-12-29T11:02:07.781Z"
   },
   {
    "duration": 6,
    "start_time": "2021-12-29T11:02:08.987Z"
   },
   {
    "duration": 10,
    "start_time": "2021-12-29T11:02:08.994Z"
   },
   {
    "duration": 7,
    "start_time": "2021-12-29T11:02:10.358Z"
   },
   {
    "duration": 27,
    "start_time": "2021-12-29T11:02:12.017Z"
   },
   {
    "duration": 1295,
    "start_time": "2021-12-29T11:02:12.866Z"
   },
   {
    "duration": 440,
    "start_time": "2021-12-29T11:02:15.444Z"
   },
   {
    "duration": 5,
    "start_time": "2021-12-29T11:02:41.089Z"
   },
   {
    "duration": 7,
    "start_time": "2021-12-29T11:02:41.971Z"
   },
   {
    "duration": 354,
    "start_time": "2021-12-29T11:02:41.999Z"
   },
   {
    "duration": 9,
    "start_time": "2021-12-29T11:02:42.356Z"
   },
   {
    "duration": 818,
    "start_time": "2021-12-29T11:02:42.367Z"
   },
   {
    "duration": 14,
    "start_time": "2021-12-29T11:02:43.187Z"
   },
   {
    "duration": 406,
    "start_time": "2021-12-29T11:02:43.203Z"
   },
   {
    "duration": 5,
    "start_time": "2021-12-29T11:02:43.611Z"
   },
   {
    "duration": 7,
    "start_time": "2021-12-29T11:02:43.619Z"
   },
   {
    "duration": 8,
    "start_time": "2021-12-29T11:02:43.628Z"
   },
   {
    "duration": 5,
    "start_time": "2021-12-29T11:02:43.638Z"
   },
   {
    "duration": 9,
    "start_time": "2021-12-29T11:02:43.644Z"
   },
   {
    "duration": 6,
    "start_time": "2021-12-29T11:02:43.692Z"
   },
   {
    "duration": 7,
    "start_time": "2021-12-29T11:02:43.700Z"
   },
   {
    "duration": 6,
    "start_time": "2021-12-29T11:02:43.708Z"
   },
   {
    "duration": 7,
    "start_time": "2021-12-29T11:02:43.716Z"
   },
   {
    "duration": 7,
    "start_time": "2021-12-29T11:02:44.115Z"
   },
   {
    "duration": 22,
    "start_time": "2021-12-29T11:02:45.640Z"
   },
   {
    "duration": 817,
    "start_time": "2021-12-29T11:02:47.060Z"
   },
   {
    "duration": 309,
    "start_time": "2021-12-29T11:02:49.135Z"
   },
   {
    "duration": 3,
    "start_time": "2021-12-29T11:03:07.076Z"
   },
   {
    "duration": 2,
    "start_time": "2021-12-29T11:03:07.577Z"
   },
   {
    "duration": 39,
    "start_time": "2021-12-29T11:03:07.645Z"
   },
   {
    "duration": 6,
    "start_time": "2021-12-29T11:03:07.686Z"
   },
   {
    "duration": 5,
    "start_time": "2021-12-29T11:03:07.698Z"
   },
   {
    "duration": 5,
    "start_time": "2021-12-29T11:03:07.756Z"
   },
   {
    "duration": 8,
    "start_time": "2021-12-29T11:03:07.818Z"
   },
   {
    "duration": 310,
    "start_time": "2021-12-29T11:03:07.848Z"
   },
   {
    "duration": 5,
    "start_time": "2021-12-29T11:03:08.160Z"
   },
   {
    "duration": 25,
    "start_time": "2021-12-29T11:03:08.167Z"
   },
   {
    "duration": 381,
    "start_time": "2021-12-29T11:03:08.194Z"
   },
   {
    "duration": 15,
    "start_time": "2021-12-29T11:03:08.576Z"
   },
   {
    "duration": 837,
    "start_time": "2021-12-29T11:03:08.593Z"
   },
   {
    "duration": 10,
    "start_time": "2021-12-29T11:03:09.432Z"
   },
   {
    "duration": 310,
    "start_time": "2021-12-29T11:03:09.443Z"
   },
   {
    "duration": 4,
    "start_time": "2021-12-29T11:03:09.755Z"
   },
   {
    "duration": 8,
    "start_time": "2021-12-29T11:03:09.762Z"
   },
   {
    "duration": 21,
    "start_time": "2021-12-29T11:03:09.772Z"
   },
   {
    "duration": 3,
    "start_time": "2021-12-29T11:03:09.795Z"
   },
   {
    "duration": 12,
    "start_time": "2021-12-29T11:03:10.558Z"
   },
   {
    "duration": 5,
    "start_time": "2021-12-29T11:03:10.922Z"
   },
   {
    "duration": 5,
    "start_time": "2021-12-29T11:03:11.113Z"
   },
   {
    "duration": 5,
    "start_time": "2021-12-29T11:03:11.772Z"
   },
   {
    "duration": 5,
    "start_time": "2021-12-29T11:03:11.801Z"
   },
   {
    "duration": 7,
    "start_time": "2021-12-29T11:03:11.901Z"
   },
   {
    "duration": 24,
    "start_time": "2021-12-29T11:03:13.338Z"
   },
   {
    "duration": 981,
    "start_time": "2021-12-29T11:03:14.664Z"
   },
   {
    "duration": 351,
    "start_time": "2021-12-29T11:03:16.234Z"
   },
   {
    "duration": 4,
    "start_time": "2021-12-29T11:03:28.924Z"
   },
   {
    "duration": 4,
    "start_time": "2021-12-29T11:03:33.702Z"
   },
   {
    "duration": 2,
    "start_time": "2021-12-29T11:03:34.208Z"
   },
   {
    "duration": 36,
    "start_time": "2021-12-29T11:03:34.274Z"
   },
   {
    "duration": 6,
    "start_time": "2021-12-29T11:03:34.312Z"
   },
   {
    "duration": 6,
    "start_time": "2021-12-29T11:03:34.326Z"
   },
   {
    "duration": 4,
    "start_time": "2021-12-29T11:03:34.385Z"
   },
   {
    "duration": 9,
    "start_time": "2021-12-29T11:03:34.446Z"
   },
   {
    "duration": 295,
    "start_time": "2021-12-29T11:03:34.479Z"
   },
   {
    "duration": 4,
    "start_time": "2021-12-29T11:03:34.776Z"
   },
   {
    "duration": 16,
    "start_time": "2021-12-29T11:03:34.792Z"
   },
   {
    "duration": 268,
    "start_time": "2021-12-29T11:03:34.810Z"
   },
   {
    "duration": 14,
    "start_time": "2021-12-29T11:03:35.080Z"
   },
   {
    "duration": 837,
    "start_time": "2021-12-29T11:03:35.096Z"
   },
   {
    "duration": 10,
    "start_time": "2021-12-29T11:03:35.934Z"
   },
   {
    "duration": 295,
    "start_time": "2021-12-29T11:03:35.946Z"
   },
   {
    "duration": 5,
    "start_time": "2021-12-29T11:03:36.243Z"
   },
   {
    "duration": 8,
    "start_time": "2021-12-29T11:03:36.250Z"
   },
   {
    "duration": 31,
    "start_time": "2021-12-29T11:03:36.261Z"
   },
   {
    "duration": 4,
    "start_time": "2021-12-29T11:03:36.294Z"
   },
   {
    "duration": 14,
    "start_time": "2021-12-29T11:03:36.299Z"
   },
   {
    "duration": 7,
    "start_time": "2021-12-29T11:03:36.315Z"
   },
   {
    "duration": 6,
    "start_time": "2021-12-29T11:03:36.324Z"
   },
   {
    "duration": 6,
    "start_time": "2021-12-29T11:03:36.331Z"
   },
   {
    "duration": 10,
    "start_time": "2021-12-29T11:03:36.338Z"
   },
   {
    "duration": 10,
    "start_time": "2021-12-29T11:03:36.349Z"
   },
   {
    "duration": 54,
    "start_time": "2021-12-29T11:03:36.360Z"
   },
   {
    "duration": 951,
    "start_time": "2021-12-29T11:03:36.416Z"
   },
   {
    "duration": 354,
    "start_time": "2021-12-29T11:03:37.370Z"
   },
   {
    "duration": 7,
    "start_time": "2021-12-29T11:03:37.726Z"
   },
   {
    "duration": 15,
    "start_time": "2021-12-29T11:03:37.734Z"
   },
   {
    "duration": 11,
    "start_time": "2021-12-29T11:03:37.751Z"
   },
   {
    "duration": 15,
    "start_time": "2021-12-29T11:05:31.313Z"
   },
   {
    "duration": 18,
    "start_time": "2021-12-29T11:05:47.393Z"
   },
   {
    "duration": 4,
    "start_time": "2021-12-29T11:13:19.600Z"
   },
   {
    "duration": 3,
    "start_time": "2021-12-29T11:13:19.630Z"
   },
   {
    "duration": 50,
    "start_time": "2021-12-29T11:13:20.438Z"
   },
   {
    "duration": 9,
    "start_time": "2021-12-29T11:13:20.617Z"
   },
   {
    "duration": 6,
    "start_time": "2021-12-29T11:13:20.791Z"
   },
   {
    "duration": 4,
    "start_time": "2021-12-29T11:13:21.139Z"
   },
   {
    "duration": 10,
    "start_time": "2021-12-29T11:13:21.949Z"
   },
   {
    "duration": 303,
    "start_time": "2021-12-29T11:13:22.182Z"
   },
   {
    "duration": 6,
    "start_time": "2021-12-29T11:13:23.354Z"
   },
   {
    "duration": 7,
    "start_time": "2021-12-29T11:13:23.739Z"
   },
   {
    "duration": 281,
    "start_time": "2021-12-29T11:13:23.932Z"
   },
   {
    "duration": 7,
    "start_time": "2021-12-29T11:13:24.320Z"
   },
   {
    "duration": 915,
    "start_time": "2021-12-29T11:13:24.504Z"
   },
   {
    "duration": 10,
    "start_time": "2021-12-29T11:13:25.422Z"
   },
   {
    "duration": 291,
    "start_time": "2021-12-29T11:13:25.434Z"
   },
   {
    "duration": 6,
    "start_time": "2021-12-29T11:13:28.061Z"
   },
   {
    "duration": 8,
    "start_time": "2021-12-29T11:13:29.013Z"
   },
   {
    "duration": 10,
    "start_time": "2021-12-29T11:13:29.445Z"
   },
   {
    "duration": 6,
    "start_time": "2021-12-29T11:13:30.246Z"
   },
   {
    "duration": 28,
    "start_time": "2021-12-29T11:14:09.436Z"
   },
   {
    "duration": 8,
    "start_time": "2021-12-29T11:14:10.407Z"
   },
   {
    "duration": 5,
    "start_time": "2021-12-29T11:14:10.437Z"
   },
   {
    "duration": 7,
    "start_time": "2021-12-29T11:14:10.500Z"
   },
   {
    "duration": 5,
    "start_time": "2021-12-29T11:14:10.526Z"
   },
   {
    "duration": 8,
    "start_time": "2021-12-29T11:14:10.616Z"
   },
   {
    "duration": 28,
    "start_time": "2021-12-29T11:14:10.682Z"
   },
   {
    "duration": 1364,
    "start_time": "2021-12-29T11:14:10.750Z"
   },
   {
    "duration": 492,
    "start_time": "2021-12-29T11:14:17.808Z"
   },
   {
    "duration": 10,
    "start_time": "2021-12-29T11:14:23.880Z"
   },
   {
    "duration": 15,
    "start_time": "2021-12-29T11:14:33.152Z"
   },
   {
    "duration": 3,
    "start_time": "2021-12-29T11:14:40.364Z"
   },
   {
    "duration": 2,
    "start_time": "2021-12-29T11:14:40.871Z"
   },
   {
    "duration": 34,
    "start_time": "2021-12-29T11:14:40.932Z"
   },
   {
    "duration": 7,
    "start_time": "2021-12-29T11:14:40.968Z"
   },
   {
    "duration": 19,
    "start_time": "2021-12-29T11:14:40.987Z"
   },
   {
    "duration": 3,
    "start_time": "2021-12-29T11:14:41.051Z"
   },
   {
    "duration": 9,
    "start_time": "2021-12-29T11:14:41.123Z"
   },
   {
    "duration": 282,
    "start_time": "2021-12-29T11:14:41.154Z"
   },
   {
    "duration": 5,
    "start_time": "2021-12-29T11:14:41.438Z"
   },
   {
    "duration": 9,
    "start_time": "2021-12-29T11:14:41.445Z"
   },
   {
    "duration": 274,
    "start_time": "2021-12-29T11:14:41.456Z"
   },
   {
    "duration": 5,
    "start_time": "2021-12-29T11:14:41.732Z"
   },
   {
    "duration": 768,
    "start_time": "2021-12-29T11:14:41.739Z"
   },
   {
    "duration": 8,
    "start_time": "2021-12-29T11:14:42.509Z"
   },
   {
    "duration": 286,
    "start_time": "2021-12-29T11:14:42.519Z"
   },
   {
    "duration": 4,
    "start_time": "2021-12-29T11:14:42.806Z"
   },
   {
    "duration": 18,
    "start_time": "2021-12-29T11:14:42.812Z"
   },
   {
    "duration": 12,
    "start_time": "2021-12-29T11:14:42.832Z"
   },
   {
    "duration": 10,
    "start_time": "2021-12-29T11:14:42.845Z"
   },
   {
    "duration": 24,
    "start_time": "2021-12-29T11:14:43.171Z"
   },
   {
    "duration": 6,
    "start_time": "2021-12-29T11:14:43.903Z"
   },
   {
    "duration": 5,
    "start_time": "2021-12-29T11:14:44.054Z"
   },
   {
    "duration": 5,
    "start_time": "2021-12-29T11:14:44.708Z"
   },
   {
    "duration": 5,
    "start_time": "2021-12-29T11:14:44.740Z"
   },
   {
    "duration": 7,
    "start_time": "2021-12-29T11:14:44.833Z"
   },
   {
    "duration": 28,
    "start_time": "2021-12-29T11:14:44.897Z"
   },
   {
    "duration": 1326,
    "start_time": "2021-12-29T11:14:44.959Z"
   },
   {
    "duration": 462,
    "start_time": "2021-12-29T11:14:47.457Z"
   },
   {
    "duration": 4,
    "start_time": "2021-12-29T11:15:15.159Z"
   },
   {
    "duration": 3,
    "start_time": "2021-12-29T11:15:15.196Z"
   },
   {
    "duration": 42,
    "start_time": "2021-12-29T11:15:15.253Z"
   },
   {
    "duration": 6,
    "start_time": "2021-12-29T11:15:15.297Z"
   },
   {
    "duration": 6,
    "start_time": "2021-12-29T11:15:15.310Z"
   },
   {
    "duration": 5,
    "start_time": "2021-12-29T11:15:15.377Z"
   },
   {
    "duration": 8,
    "start_time": "2021-12-29T11:15:15.441Z"
   },
   {
    "duration": 297,
    "start_time": "2021-12-29T11:15:15.477Z"
   },
   {
    "duration": 4,
    "start_time": "2021-12-29T11:15:15.776Z"
   },
   {
    "duration": 13,
    "start_time": "2021-12-29T11:15:15.782Z"
   },
   {
    "duration": 272,
    "start_time": "2021-12-29T11:15:15.796Z"
   },
   {
    "duration": 6,
    "start_time": "2021-12-29T11:15:16.070Z"
   },
   {
    "duration": 853,
    "start_time": "2021-12-29T11:15:16.078Z"
   },
   {
    "duration": 9,
    "start_time": "2021-12-29T11:15:16.933Z"
   },
   {
    "duration": 309,
    "start_time": "2021-12-29T11:15:16.945Z"
   },
   {
    "duration": 5,
    "start_time": "2021-12-29T11:15:17.787Z"
   },
   {
    "duration": 5,
    "start_time": "2021-12-29T11:15:18.181Z"
   },
   {
    "duration": 6,
    "start_time": "2021-12-29T11:15:18.380Z"
   },
   {
    "duration": 4,
    "start_time": "2021-12-29T11:15:18.770Z"
   },
   {
    "duration": 25,
    "start_time": "2021-12-29T11:15:20.221Z"
   },
   {
    "duration": 6,
    "start_time": "2021-12-29T11:15:20.791Z"
   },
   {
    "duration": 5,
    "start_time": "2021-12-29T11:15:21.295Z"
   },
   {
    "duration": 5,
    "start_time": "2021-12-29T11:15:21.362Z"
   },
   {
    "duration": 5,
    "start_time": "2021-12-29T11:15:21.386Z"
   },
   {
    "duration": 9,
    "start_time": "2021-12-29T11:15:21.474Z"
   },
   {
    "duration": 29,
    "start_time": "2021-12-29T11:15:21.551Z"
   },
   {
    "duration": 1355,
    "start_time": "2021-12-29T11:15:22.159Z"
   },
   {
    "duration": 469,
    "start_time": "2021-12-29T11:15:23.516Z"
   },
   {
    "duration": 7,
    "start_time": "2021-12-29T11:15:27.502Z"
   },
   {
    "duration": 8,
    "start_time": "2021-12-29T11:15:59.058Z"
   },
   {
    "duration": 4,
    "start_time": "2021-12-29T11:16:03.440Z"
   },
   {
    "duration": 3,
    "start_time": "2021-12-29T11:16:03.468Z"
   },
   {
    "duration": 38,
    "start_time": "2021-12-29T11:16:03.525Z"
   },
   {
    "duration": 6,
    "start_time": "2021-12-29T11:16:03.565Z"
   },
   {
    "duration": 5,
    "start_time": "2021-12-29T11:16:03.595Z"
   },
   {
    "duration": 5,
    "start_time": "2021-12-29T11:16:03.645Z"
   },
   {
    "duration": 9,
    "start_time": "2021-12-29T11:16:03.714Z"
   },
   {
    "duration": 415,
    "start_time": "2021-12-29T11:16:03.743Z"
   },
   {
    "duration": 4,
    "start_time": "2021-12-29T11:16:04.160Z"
   },
   {
    "duration": 8,
    "start_time": "2021-12-29T11:16:04.165Z"
   },
   {
    "duration": 280,
    "start_time": "2021-12-29T11:16:04.175Z"
   },
   {
    "duration": 6,
    "start_time": "2021-12-29T11:16:04.457Z"
   },
   {
    "duration": 816,
    "start_time": "2021-12-29T11:16:04.465Z"
   },
   {
    "duration": 10,
    "start_time": "2021-12-29T11:16:05.282Z"
   },
   {
    "duration": 282,
    "start_time": "2021-12-29T11:16:05.294Z"
   },
   {
    "duration": 4,
    "start_time": "2021-12-29T11:16:05.837Z"
   },
   {
    "duration": 5,
    "start_time": "2021-12-29T11:16:06.344Z"
   },
   {
    "duration": 7,
    "start_time": "2021-12-29T11:16:06.573Z"
   },
   {
    "duration": 4,
    "start_time": "2021-12-29T11:16:06.907Z"
   },
   {
    "duration": 13,
    "start_time": "2021-12-29T11:16:09.162Z"
   },
   {
    "duration": 23,
    "start_time": "2021-12-29T11:16:09.177Z"
   },
   {
    "duration": 23,
    "start_time": "2021-12-29T11:16:09.203Z"
   },
   {
    "duration": 6,
    "start_time": "2021-12-29T11:16:09.771Z"
   },
   {
    "duration": 5,
    "start_time": "2021-12-29T11:16:10.174Z"
   },
   {
    "duration": 8,
    "start_time": "2021-12-29T11:16:11.284Z"
   },
   {
    "duration": 4,
    "start_time": "2021-12-29T11:16:30.142Z"
   },
   {
    "duration": 3,
    "start_time": "2021-12-29T11:16:30.172Z"
   },
   {
    "duration": 38,
    "start_time": "2021-12-29T11:16:30.248Z"
   },
   {
    "duration": 8,
    "start_time": "2021-12-29T11:16:30.288Z"
   },
   {
    "duration": 6,
    "start_time": "2021-12-29T11:16:30.306Z"
   },
   {
    "duration": 5,
    "start_time": "2021-12-29T11:16:30.366Z"
   },
   {
    "duration": 10,
    "start_time": "2021-12-29T11:16:30.419Z"
   },
   {
    "duration": 309,
    "start_time": "2021-12-29T11:16:30.449Z"
   },
   {
    "duration": 5,
    "start_time": "2021-12-29T11:16:31.536Z"
   },
   {
    "duration": 5,
    "start_time": "2021-12-29T11:16:31.596Z"
   },
   {
    "duration": 273,
    "start_time": "2021-12-29T11:16:31.630Z"
   },
   {
    "duration": 7,
    "start_time": "2021-12-29T11:16:31.906Z"
   },
   {
    "duration": 798,
    "start_time": "2021-12-29T11:16:31.915Z"
   },
   {
    "duration": 9,
    "start_time": "2021-12-29T11:16:32.716Z"
   },
   {
    "duration": 290,
    "start_time": "2021-12-29T11:16:32.727Z"
   },
   {
    "duration": 4,
    "start_time": "2021-12-29T11:16:33.019Z"
   },
   {
    "duration": 7,
    "start_time": "2021-12-29T11:16:33.025Z"
   },
   {
    "duration": 13,
    "start_time": "2021-12-29T11:16:33.196Z"
   },
   {
    "duration": 6,
    "start_time": "2021-12-29T11:16:33.865Z"
   },
   {
    "duration": 21,
    "start_time": "2021-12-29T11:16:34.016Z"
   },
   {
    "duration": 8,
    "start_time": "2021-12-29T11:16:34.078Z"
   },
   {
    "duration": 7,
    "start_time": "2021-12-29T11:16:34.105Z"
   },
   {
    "duration": 10,
    "start_time": "2021-12-29T11:16:34.664Z"
   },
   {
    "duration": 7,
    "start_time": "2021-12-29T11:16:34.935Z"
   },
   {
    "duration": 10,
    "start_time": "2021-12-29T11:16:36.016Z"
   },
   {
    "duration": 34,
    "start_time": "2021-12-29T11:16:38.044Z"
   },
   {
    "duration": 1116,
    "start_time": "2021-12-29T11:16:38.803Z"
   },
   {
    "duration": 403,
    "start_time": "2021-12-29T11:16:40.739Z"
   },
   {
    "duration": 7,
    "start_time": "2021-12-29T11:16:42.651Z"
   },
   {
    "duration": 4,
    "start_time": "2021-12-29T11:17:03.308Z"
   },
   {
    "duration": 3,
    "start_time": "2021-12-29T11:17:03.342Z"
   },
   {
    "duration": 38,
    "start_time": "2021-12-29T11:17:03.399Z"
   },
   {
    "duration": 7,
    "start_time": "2021-12-29T11:17:03.438Z"
   },
   {
    "duration": 5,
    "start_time": "2021-12-29T11:17:03.456Z"
   },
   {
    "duration": 4,
    "start_time": "2021-12-29T11:17:03.522Z"
   },
   {
    "duration": 9,
    "start_time": "2021-12-29T11:17:03.587Z"
   },
   {
    "duration": 431,
    "start_time": "2021-12-29T11:17:03.625Z"
   },
   {
    "duration": 6,
    "start_time": "2021-12-29T11:17:04.058Z"
   },
   {
    "duration": 7,
    "start_time": "2021-12-29T11:17:04.066Z"
   },
   {
    "duration": 289,
    "start_time": "2021-12-29T11:17:04.091Z"
   },
   {
    "duration": 13,
    "start_time": "2021-12-29T11:17:04.382Z"
   },
   {
    "duration": 814,
    "start_time": "2021-12-29T11:17:04.398Z"
   },
   {
    "duration": 8,
    "start_time": "2021-12-29T11:17:05.214Z"
   },
   {
    "duration": 304,
    "start_time": "2021-12-29T11:17:05.225Z"
   },
   {
    "duration": 4,
    "start_time": "2021-12-29T11:17:05.531Z"
   },
   {
    "duration": 14,
    "start_time": "2021-12-29T11:17:05.537Z"
   },
   {
    "duration": 14,
    "start_time": "2021-12-29T11:17:05.552Z"
   },
   {
    "duration": 28,
    "start_time": "2021-12-29T11:17:05.568Z"
   },
   {
    "duration": 45,
    "start_time": "2021-12-29T11:17:06.082Z"
   },
   {
    "duration": 6,
    "start_time": "2021-12-29T11:17:06.948Z"
   },
   {
    "duration": 4,
    "start_time": "2021-12-29T11:17:06.983Z"
   },
   {
    "duration": 6,
    "start_time": "2021-12-29T11:17:07.044Z"
   },
   {
    "duration": 6,
    "start_time": "2021-12-29T11:17:07.073Z"
   },
   {
    "duration": 9,
    "start_time": "2021-12-29T11:17:07.185Z"
   },
   {
    "duration": 34,
    "start_time": "2021-12-29T11:17:08.110Z"
   },
   {
    "duration": 1701,
    "start_time": "2021-12-29T11:17:10.812Z"
   },
   {
    "duration": 639,
    "start_time": "2021-12-29T11:17:14.469Z"
   },
   {
    "duration": 132,
    "start_time": "2021-12-29T11:17:22.106Z"
   },
   {
    "duration": 4,
    "start_time": "2021-12-29T11:20:50.635Z"
   },
   {
    "duration": 3,
    "start_time": "2021-12-29T11:20:50.663Z"
   },
   {
    "duration": 37,
    "start_time": "2021-12-29T11:20:50.726Z"
   },
   {
    "duration": 6,
    "start_time": "2021-12-29T11:20:50.765Z"
   },
   {
    "duration": 6,
    "start_time": "2021-12-29T11:20:50.794Z"
   },
   {
    "duration": 4,
    "start_time": "2021-12-29T11:20:50.851Z"
   },
   {
    "duration": 8,
    "start_time": "2021-12-29T11:20:50.916Z"
   },
   {
    "duration": 464,
    "start_time": "2021-12-29T11:20:50.950Z"
   },
   {
    "duration": 4,
    "start_time": "2021-12-29T11:20:51.416Z"
   },
   {
    "duration": 8,
    "start_time": "2021-12-29T11:20:51.422Z"
   },
   {
    "duration": 286,
    "start_time": "2021-12-29T11:20:51.432Z"
   },
   {
    "duration": 6,
    "start_time": "2021-12-29T11:20:52.396Z"
   },
   {
    "duration": 767,
    "start_time": "2021-12-29T11:20:52.428Z"
   },
   {
    "duration": 8,
    "start_time": "2021-12-29T11:20:53.197Z"
   },
   {
    "duration": 267,
    "start_time": "2021-12-29T11:20:53.207Z"
   },
   {
    "duration": 4,
    "start_time": "2021-12-29T11:20:53.743Z"
   },
   {
    "duration": 6,
    "start_time": "2021-12-29T11:20:54.184Z"
   },
   {
    "duration": 6,
    "start_time": "2021-12-29T11:20:54.372Z"
   },
   {
    "duration": 4,
    "start_time": "2021-12-29T11:20:54.764Z"
   },
   {
    "duration": 74,
    "start_time": "2021-12-29T11:20:56.222Z"
   },
   {
    "duration": 8,
    "start_time": "2021-12-29T11:20:56.936Z"
   },
   {
    "duration": 4,
    "start_time": "2021-12-29T11:20:57.185Z"
   },
   {
    "duration": 5,
    "start_time": "2021-12-29T11:20:57.567Z"
   },
   {
    "duration": 5,
    "start_time": "2021-12-29T11:20:57.870Z"
   },
   {
    "duration": 9,
    "start_time": "2021-12-29T11:20:58.754Z"
   },
   {
    "duration": 34,
    "start_time": "2021-12-29T11:21:02.013Z"
   },
   {
    "duration": 1624,
    "start_time": "2021-12-29T11:21:03.623Z"
   },
   {
    "duration": 5047,
    "start_time": "2021-12-29T11:21:11.316Z"
   },
   {
    "duration": 1145,
    "start_time": "2021-12-29T11:21:59.709Z"
   },
   {
    "duration": 3,
    "start_time": "2021-12-29T11:22:00.856Z"
   },
   {
    "duration": 40,
    "start_time": "2021-12-29T11:22:00.861Z"
   },
   {
    "duration": 10,
    "start_time": "2021-12-29T11:22:00.903Z"
   },
   {
    "duration": 11,
    "start_time": "2021-12-29T11:22:00.914Z"
   },
   {
    "duration": 6,
    "start_time": "2021-12-29T11:22:00.926Z"
   },
   {
    "duration": 18,
    "start_time": "2021-12-29T11:22:00.934Z"
   },
   {
    "duration": 318,
    "start_time": "2021-12-29T11:22:00.953Z"
   },
   {
    "duration": 5,
    "start_time": "2021-12-29T11:22:01.274Z"
   },
   {
    "duration": 20,
    "start_time": "2021-12-29T11:22:01.281Z"
   },
   {
    "duration": 276,
    "start_time": "2021-12-29T11:22:01.303Z"
   },
   {
    "duration": 14,
    "start_time": "2021-12-29T11:22:01.580Z"
   },
   {
    "duration": 770,
    "start_time": "2021-12-29T11:22:01.596Z"
   },
   {
    "duration": 25,
    "start_time": "2021-12-29T11:22:02.367Z"
   },
   {
    "duration": 270,
    "start_time": "2021-12-29T11:22:02.393Z"
   },
   {
    "duration": 4,
    "start_time": "2021-12-29T11:22:02.665Z"
   },
   {
    "duration": 9,
    "start_time": "2021-12-29T11:22:02.671Z"
   },
   {
    "duration": 7,
    "start_time": "2021-12-29T11:22:02.692Z"
   },
   {
    "duration": 4,
    "start_time": "2021-12-29T11:22:02.701Z"
   },
   {
    "duration": 154,
    "start_time": "2021-12-29T11:22:02.707Z"
   },
   {
    "duration": 7,
    "start_time": "2021-12-29T11:22:02.863Z"
   },
   {
    "duration": 20,
    "start_time": "2021-12-29T11:22:02.871Z"
   },
   {
    "duration": 5,
    "start_time": "2021-12-29T11:22:02.893Z"
   },
   {
    "duration": 7,
    "start_time": "2021-12-29T11:22:02.900Z"
   },
   {
    "duration": 10,
    "start_time": "2021-12-29T11:22:02.909Z"
   },
   {
    "duration": 82,
    "start_time": "2021-12-29T11:22:02.921Z"
   },
   {
    "duration": 1543,
    "start_time": "2021-12-29T11:22:03.006Z"
   },
   {
    "duration": 5019,
    "start_time": "2021-12-29T11:22:04.551Z"
   },
   {
    "duration": 8,
    "start_time": "2021-12-29T11:22:09.572Z"
   },
   {
    "duration": 5,
    "start_time": "2021-12-29T11:22:09.591Z"
   },
   {
    "duration": 6,
    "start_time": "2021-12-29T11:22:09.597Z"
   },
   {
    "duration": 101,
    "start_time": "2021-12-29T11:22:09.605Z"
   },
   {
    "duration": 1207,
    "start_time": "2021-12-29T11:23:04.883Z"
   },
   {
    "duration": 3,
    "start_time": "2021-12-29T11:23:06.092Z"
   },
   {
    "duration": 41,
    "start_time": "2021-12-29T11:23:06.097Z"
   },
   {
    "duration": 10,
    "start_time": "2021-12-29T11:23:06.140Z"
   },
   {
    "duration": 8,
    "start_time": "2021-12-29T11:23:06.152Z"
   },
   {
    "duration": 5,
    "start_time": "2021-12-29T11:23:06.162Z"
   },
   {
    "duration": 23,
    "start_time": "2021-12-29T11:23:06.169Z"
   },
   {
    "duration": 313,
    "start_time": "2021-12-29T11:23:06.194Z"
   },
   {
    "duration": 6,
    "start_time": "2021-12-29T11:23:06.509Z"
   },
   {
    "duration": 8,
    "start_time": "2021-12-29T11:23:06.517Z"
   },
   {
    "duration": 284,
    "start_time": "2021-12-29T11:23:06.527Z"
   },
   {
    "duration": 8,
    "start_time": "2021-12-29T11:23:06.813Z"
   },
   {
    "duration": 800,
    "start_time": "2021-12-29T11:23:06.823Z"
   },
   {
    "duration": 9,
    "start_time": "2021-12-29T11:23:07.625Z"
   },
   {
    "duration": 322,
    "start_time": "2021-12-29T11:23:07.636Z"
   },
   {
    "duration": 6,
    "start_time": "2021-12-29T11:23:07.960Z"
   },
   {
    "duration": 8,
    "start_time": "2021-12-29T11:23:07.968Z"
   },
   {
    "duration": 20,
    "start_time": "2021-12-29T11:23:07.979Z"
   },
   {
    "duration": 5,
    "start_time": "2021-12-29T11:23:08.001Z"
   },
   {
    "duration": 102,
    "start_time": "2021-12-29T11:23:08.008Z"
   },
   {
    "duration": 8,
    "start_time": "2021-12-29T11:23:08.112Z"
   },
   {
    "duration": 10,
    "start_time": "2021-12-29T11:23:08.122Z"
   },
   {
    "duration": 7,
    "start_time": "2021-12-29T11:23:08.134Z"
   },
   {
    "duration": 8,
    "start_time": "2021-12-29T11:23:08.143Z"
   },
   {
    "duration": 11,
    "start_time": "2021-12-29T11:23:08.152Z"
   },
   {
    "duration": 65,
    "start_time": "2021-12-29T11:23:08.165Z"
   },
   {
    "duration": 1375,
    "start_time": "2021-12-29T11:23:08.233Z"
   },
   {
    "duration": 4383,
    "start_time": "2021-12-29T11:23:09.610Z"
   },
   {
    "duration": 9,
    "start_time": "2021-12-29T11:23:13.996Z"
   },
   {
    "duration": 13,
    "start_time": "2021-12-29T11:23:14.008Z"
   },
   {
    "duration": 23,
    "start_time": "2021-12-29T11:23:14.023Z"
   },
   {
    "duration": 48,
    "start_time": "2021-12-29T11:23:14.048Z"
   },
   {
    "duration": 1116,
    "start_time": "2021-12-29T11:23:51.575Z"
   },
   {
    "duration": 3,
    "start_time": "2021-12-29T11:23:52.693Z"
   },
   {
    "duration": 55,
    "start_time": "2021-12-29T11:23:52.698Z"
   },
   {
    "duration": 9,
    "start_time": "2021-12-29T11:23:52.754Z"
   },
   {
    "duration": 28,
    "start_time": "2021-12-29T11:23:52.765Z"
   },
   {
    "duration": 15,
    "start_time": "2021-12-29T11:23:52.795Z"
   },
   {
    "duration": 49,
    "start_time": "2021-12-29T11:23:52.811Z"
   },
   {
    "duration": 302,
    "start_time": "2021-12-29T11:23:52.862Z"
   },
   {
    "duration": 6,
    "start_time": "2021-12-29T11:23:53.166Z"
   },
   {
    "duration": 21,
    "start_time": "2021-12-29T11:23:53.174Z"
   },
   {
    "duration": 276,
    "start_time": "2021-12-29T11:23:53.197Z"
   },
   {
    "duration": 6,
    "start_time": "2021-12-29T11:23:53.475Z"
   },
   {
    "duration": 787,
    "start_time": "2021-12-29T11:23:53.491Z"
   },
   {
    "duration": 17,
    "start_time": "2021-12-29T11:23:54.280Z"
   },
   {
    "duration": 269,
    "start_time": "2021-12-29T11:23:54.298Z"
   },
   {
    "duration": 4,
    "start_time": "2021-12-29T11:23:54.569Z"
   },
   {
    "duration": 18,
    "start_time": "2021-12-29T11:23:54.574Z"
   },
   {
    "duration": 7,
    "start_time": "2021-12-29T11:23:54.593Z"
   },
   {
    "duration": 5,
    "start_time": "2021-12-29T11:23:54.601Z"
   },
   {
    "duration": 101,
    "start_time": "2021-12-29T11:23:54.608Z"
   },
   {
    "duration": 5,
    "start_time": "2021-12-29T11:23:54.711Z"
   },
   {
    "duration": 4,
    "start_time": "2021-12-29T11:23:54.718Z"
   },
   {
    "duration": 6,
    "start_time": "2021-12-29T11:23:54.723Z"
   },
   {
    "duration": 7,
    "start_time": "2021-12-29T11:23:54.730Z"
   },
   {
    "duration": 11,
    "start_time": "2021-12-29T11:23:54.738Z"
   },
   {
    "duration": 55,
    "start_time": "2021-12-29T11:23:54.750Z"
   },
   {
    "duration": 1546,
    "start_time": "2021-12-29T11:23:54.807Z"
   },
   {
    "duration": 4952,
    "start_time": "2021-12-29T11:23:56.355Z"
   },
   {
    "duration": 8,
    "start_time": "2021-12-29T11:24:01.309Z"
   },
   {
    "duration": 20,
    "start_time": "2021-12-29T11:24:01.319Z"
   },
   {
    "duration": 29,
    "start_time": "2021-12-29T11:24:01.341Z"
   },
   {
    "duration": 37,
    "start_time": "2021-12-29T11:24:01.372Z"
   },
   {
    "duration": 1071,
    "start_time": "2021-12-29T11:24:26.512Z"
   },
   {
    "duration": 2,
    "start_time": "2021-12-29T11:24:27.585Z"
   },
   {
    "duration": 38,
    "start_time": "2021-12-29T11:24:27.591Z"
   },
   {
    "duration": 9,
    "start_time": "2021-12-29T11:24:27.631Z"
   },
   {
    "duration": 8,
    "start_time": "2021-12-29T11:24:27.642Z"
   },
   {
    "duration": 4,
    "start_time": "2021-12-29T11:24:27.652Z"
   },
   {
    "duration": 11,
    "start_time": "2021-12-29T11:24:27.657Z"
   },
   {
    "duration": 316,
    "start_time": "2021-12-29T11:24:27.670Z"
   },
   {
    "duration": 5,
    "start_time": "2021-12-29T11:24:27.992Z"
   },
   {
    "duration": 10,
    "start_time": "2021-12-29T11:24:27.999Z"
   },
   {
    "duration": 268,
    "start_time": "2021-12-29T11:24:28.010Z"
   },
   {
    "duration": 15,
    "start_time": "2021-12-29T11:24:28.280Z"
   },
   {
    "duration": 767,
    "start_time": "2021-12-29T11:24:28.297Z"
   },
   {
    "duration": 9,
    "start_time": "2021-12-29T11:24:29.066Z"
   },
   {
    "duration": 280,
    "start_time": "2021-12-29T11:24:29.077Z"
   },
   {
    "duration": 3,
    "start_time": "2021-12-29T11:24:29.360Z"
   },
   {
    "duration": 8,
    "start_time": "2021-12-29T11:24:29.365Z"
   },
   {
    "duration": 18,
    "start_time": "2021-12-29T11:24:29.375Z"
   },
   {
    "duration": 3,
    "start_time": "2021-12-29T11:24:29.395Z"
   },
   {
    "duration": 112,
    "start_time": "2021-12-29T11:24:29.400Z"
   },
   {
    "duration": 6,
    "start_time": "2021-12-29T11:24:29.514Z"
   },
   {
    "duration": 4,
    "start_time": "2021-12-29T11:24:29.521Z"
   },
   {
    "duration": 6,
    "start_time": "2021-12-29T11:24:29.527Z"
   },
   {
    "duration": 6,
    "start_time": "2021-12-29T11:24:29.534Z"
   },
   {
    "duration": 16,
    "start_time": "2021-12-29T11:24:29.542Z"
   },
   {
    "duration": 50,
    "start_time": "2021-12-29T11:24:29.560Z"
   },
   {
    "duration": 1638,
    "start_time": "2021-12-29T11:24:29.614Z"
   },
   {
    "duration": 5484,
    "start_time": "2021-12-29T11:24:31.254Z"
   },
   {
    "duration": 9,
    "start_time": "2021-12-29T11:24:36.740Z"
   },
   {
    "duration": 7,
    "start_time": "2021-12-29T11:24:36.751Z"
   },
   {
    "duration": 6,
    "start_time": "2021-12-29T11:24:36.760Z"
   },
   {
    "duration": 31,
    "start_time": "2021-12-29T11:24:36.791Z"
   },
   {
    "duration": 1195,
    "start_time": "2021-12-29T11:25:07.903Z"
   },
   {
    "duration": 3,
    "start_time": "2021-12-29T11:25:09.101Z"
   },
   {
    "duration": 42,
    "start_time": "2021-12-29T11:25:09.106Z"
   },
   {
    "duration": 10,
    "start_time": "2021-12-29T11:25:09.150Z"
   },
   {
    "duration": 9,
    "start_time": "2021-12-29T11:25:09.162Z"
   },
   {
    "duration": 20,
    "start_time": "2021-12-29T11:25:09.173Z"
   },
   {
    "duration": 10,
    "start_time": "2021-12-29T11:25:09.194Z"
   },
   {
    "duration": 330,
    "start_time": "2021-12-29T11:25:09.205Z"
   },
   {
    "duration": 6,
    "start_time": "2021-12-29T11:25:09.537Z"
   },
   {
    "duration": 9,
    "start_time": "2021-12-29T11:25:09.545Z"
   },
   {
    "duration": 290,
    "start_time": "2021-12-29T11:25:09.555Z"
   },
   {
    "duration": 7,
    "start_time": "2021-12-29T11:25:09.846Z"
   },
   {
    "duration": 834,
    "start_time": "2021-12-29T11:25:09.854Z"
   },
   {
    "duration": 8,
    "start_time": "2021-12-29T11:25:10.691Z"
   },
   {
    "duration": 294,
    "start_time": "2021-12-29T11:25:10.701Z"
   },
   {
    "duration": 4,
    "start_time": "2021-12-29T11:25:10.996Z"
   },
   {
    "duration": 19,
    "start_time": "2021-12-29T11:25:11.002Z"
   },
   {
    "duration": 20,
    "start_time": "2021-12-29T11:25:11.023Z"
   },
   {
    "duration": 21,
    "start_time": "2021-12-29T11:25:11.045Z"
   },
   {
    "duration": 125,
    "start_time": "2021-12-29T11:25:11.068Z"
   },
   {
    "duration": 23,
    "start_time": "2021-12-29T11:25:11.195Z"
   },
   {
    "duration": 5,
    "start_time": "2021-12-29T11:25:11.220Z"
   },
   {
    "duration": 22,
    "start_time": "2021-12-29T11:25:11.227Z"
   },
   {
    "duration": 24,
    "start_time": "2021-12-29T11:25:11.251Z"
   },
   {
    "duration": 26,
    "start_time": "2021-12-29T11:25:11.276Z"
   },
   {
    "duration": 103,
    "start_time": "2021-12-29T11:25:11.305Z"
   },
   {
    "duration": 1960,
    "start_time": "2021-12-29T11:25:11.413Z"
   },
   {
    "duration": 5720,
    "start_time": "2021-12-29T11:25:13.375Z"
   },
   {
    "duration": 10,
    "start_time": "2021-12-29T11:25:19.097Z"
   },
   {
    "duration": 7,
    "start_time": "2021-12-29T11:25:19.109Z"
   },
   {
    "duration": 7,
    "start_time": "2021-12-29T11:25:19.119Z"
   },
   {
    "duration": 1104,
    "start_time": "2021-12-29T11:25:41.534Z"
   },
   {
    "duration": 3,
    "start_time": "2021-12-29T11:25:42.640Z"
   },
   {
    "duration": 42,
    "start_time": "2021-12-29T11:25:42.644Z"
   },
   {
    "duration": 9,
    "start_time": "2021-12-29T11:25:42.689Z"
   },
   {
    "duration": 18,
    "start_time": "2021-12-29T11:25:42.700Z"
   },
   {
    "duration": 6,
    "start_time": "2021-12-29T11:25:42.720Z"
   },
   {
    "duration": 14,
    "start_time": "2021-12-29T11:25:42.728Z"
   },
   {
    "duration": 332,
    "start_time": "2021-12-29T11:25:42.744Z"
   },
   {
    "duration": 13,
    "start_time": "2021-12-29T11:25:43.078Z"
   },
   {
    "duration": 6,
    "start_time": "2021-12-29T11:25:43.094Z"
   },
   {
    "duration": 297,
    "start_time": "2021-12-29T11:25:43.102Z"
   },
   {
    "duration": 6,
    "start_time": "2021-12-29T11:25:43.401Z"
   },
   {
    "duration": 791,
    "start_time": "2021-12-29T11:25:43.409Z"
   },
   {
    "duration": 9,
    "start_time": "2021-12-29T11:25:44.202Z"
   },
   {
    "duration": 299,
    "start_time": "2021-12-29T11:25:44.213Z"
   },
   {
    "duration": 5,
    "start_time": "2021-12-29T11:25:44.514Z"
   },
   {
    "duration": 13,
    "start_time": "2021-12-29T11:25:44.521Z"
   },
   {
    "duration": 11,
    "start_time": "2021-12-29T11:25:44.537Z"
   },
   {
    "duration": 7,
    "start_time": "2021-12-29T11:25:44.550Z"
   },
   {
    "duration": 127,
    "start_time": "2021-12-29T11:25:44.559Z"
   },
   {
    "duration": 8,
    "start_time": "2021-12-29T11:25:44.691Z"
   },
   {
    "duration": 6,
    "start_time": "2021-12-29T11:25:44.701Z"
   },
   {
    "duration": 7,
    "start_time": "2021-12-29T11:25:44.711Z"
   },
   {
    "duration": 5,
    "start_time": "2021-12-29T11:25:44.720Z"
   },
   {
    "duration": 8,
    "start_time": "2021-12-29T11:25:44.727Z"
   },
   {
    "duration": 68,
    "start_time": "2021-12-29T11:25:44.737Z"
   },
   {
    "duration": 1585,
    "start_time": "2021-12-29T11:25:44.807Z"
   },
   {
    "duration": 5147,
    "start_time": "2021-12-29T11:25:46.394Z"
   },
   {
    "duration": 9,
    "start_time": "2021-12-29T11:25:51.543Z"
   },
   {
    "duration": 11,
    "start_time": "2021-12-29T11:25:51.553Z"
   },
   {
    "duration": 30,
    "start_time": "2021-12-29T11:25:51.565Z"
   },
   {
    "duration": 1181,
    "start_time": "2021-12-29T11:26:07.322Z"
   },
   {
    "duration": 3,
    "start_time": "2021-12-29T11:26:08.506Z"
   },
   {
    "duration": 56,
    "start_time": "2021-12-29T11:26:08.514Z"
   },
   {
    "duration": 11,
    "start_time": "2021-12-29T11:26:08.572Z"
   },
   {
    "duration": 22,
    "start_time": "2021-12-29T11:26:08.585Z"
   },
   {
    "duration": 18,
    "start_time": "2021-12-29T11:26:08.609Z"
   },
   {
    "duration": 56,
    "start_time": "2021-12-29T11:26:08.629Z"
   },
   {
    "duration": 326,
    "start_time": "2021-12-29T11:26:08.688Z"
   },
   {
    "duration": 5,
    "start_time": "2021-12-29T11:26:09.016Z"
   },
   {
    "duration": 34,
    "start_time": "2021-12-29T11:26:09.023Z"
   },
   {
    "duration": 285,
    "start_time": "2021-12-29T11:26:09.059Z"
   },
   {
    "duration": 7,
    "start_time": "2021-12-29T11:26:09.346Z"
   },
   {
    "duration": 877,
    "start_time": "2021-12-29T11:26:09.354Z"
   },
   {
    "duration": 9,
    "start_time": "2021-12-29T11:26:10.233Z"
   },
   {
    "duration": 288,
    "start_time": "2021-12-29T11:26:10.244Z"
   },
   {
    "duration": 4,
    "start_time": "2021-12-29T11:26:10.534Z"
   },
   {
    "duration": 26,
    "start_time": "2021-12-29T11:26:10.539Z"
   },
   {
    "duration": 25,
    "start_time": "2021-12-29T11:26:10.566Z"
   },
   {
    "duration": 25,
    "start_time": "2021-12-29T11:26:10.593Z"
   },
   {
    "duration": 111,
    "start_time": "2021-12-29T11:26:10.619Z"
   },
   {
    "duration": 14,
    "start_time": "2021-12-29T11:26:10.732Z"
   },
   {
    "duration": 23,
    "start_time": "2021-12-29T11:26:10.747Z"
   },
   {
    "duration": 30,
    "start_time": "2021-12-29T11:26:10.772Z"
   },
   {
    "duration": 30,
    "start_time": "2021-12-29T11:26:10.803Z"
   },
   {
    "duration": 33,
    "start_time": "2021-12-29T11:26:10.835Z"
   },
   {
    "duration": 41,
    "start_time": "2021-12-29T11:26:10.871Z"
   },
   {
    "duration": 1544,
    "start_time": "2021-12-29T11:26:10.913Z"
   },
   {
    "duration": 5066,
    "start_time": "2021-12-29T11:26:12.459Z"
   },
   {
    "duration": 9,
    "start_time": "2021-12-29T11:26:17.527Z"
   },
   {
    "duration": 37,
    "start_time": "2021-12-29T11:26:17.538Z"
   },
   {
    "duration": 22,
    "start_time": "2021-12-29T11:26:17.577Z"
   },
   {
    "duration": 1684,
    "start_time": "2021-12-29T11:26:29.873Z"
   },
   {
    "duration": 4,
    "start_time": "2021-12-29T11:26:31.560Z"
   },
   {
    "duration": 55,
    "start_time": "2021-12-29T11:26:31.566Z"
   },
   {
    "duration": 20,
    "start_time": "2021-12-29T11:26:31.624Z"
   },
   {
    "duration": 18,
    "start_time": "2021-12-29T11:26:31.646Z"
   },
   {
    "duration": 28,
    "start_time": "2021-12-29T11:26:31.665Z"
   },
   {
    "duration": 21,
    "start_time": "2021-12-29T11:26:31.695Z"
   },
   {
    "duration": 332,
    "start_time": "2021-12-29T11:26:31.718Z"
   },
   {
    "duration": 6,
    "start_time": "2021-12-29T11:26:32.054Z"
   },
   {
    "duration": 29,
    "start_time": "2021-12-29T11:26:32.062Z"
   },
   {
    "duration": 294,
    "start_time": "2021-12-29T11:26:32.093Z"
   },
   {
    "duration": 10,
    "start_time": "2021-12-29T11:26:32.391Z"
   },
   {
    "duration": 821,
    "start_time": "2021-12-29T11:26:32.403Z"
   },
   {
    "duration": 8,
    "start_time": "2021-12-29T11:26:33.226Z"
   },
   {
    "duration": 295,
    "start_time": "2021-12-29T11:26:33.236Z"
   },
   {
    "duration": 5,
    "start_time": "2021-12-29T11:26:33.532Z"
   },
   {
    "duration": 13,
    "start_time": "2021-12-29T11:26:33.538Z"
   },
   {
    "duration": 39,
    "start_time": "2021-12-29T11:26:33.553Z"
   },
   {
    "duration": 17,
    "start_time": "2021-12-29T11:26:33.595Z"
   },
   {
    "duration": 116,
    "start_time": "2021-12-29T11:26:33.614Z"
   },
   {
    "duration": 6,
    "start_time": "2021-12-29T11:26:33.732Z"
   },
   {
    "duration": 18,
    "start_time": "2021-12-29T11:26:33.740Z"
   },
   {
    "duration": 21,
    "start_time": "2021-12-29T11:26:33.760Z"
   },
   {
    "duration": 30,
    "start_time": "2021-12-29T11:26:33.783Z"
   },
   {
    "duration": 20,
    "start_time": "2021-12-29T11:26:33.819Z"
   },
   {
    "duration": 51,
    "start_time": "2021-12-29T11:26:33.842Z"
   },
   {
    "duration": 1225,
    "start_time": "2021-12-29T11:26:33.898Z"
   },
   {
    "duration": 4287,
    "start_time": "2021-12-29T11:26:35.125Z"
   },
   {
    "duration": 8,
    "start_time": "2021-12-29T11:26:39.414Z"
   },
   {
    "duration": 17,
    "start_time": "2021-12-29T11:26:39.424Z"
   },
   {
    "duration": 29,
    "start_time": "2021-12-29T11:26:39.443Z"
   },
   {
    "duration": 1154,
    "start_time": "2021-12-29T11:26:46.915Z"
   },
   {
    "duration": 3,
    "start_time": "2021-12-29T11:26:48.071Z"
   },
   {
    "duration": 65,
    "start_time": "2021-12-29T11:26:48.077Z"
   },
   {
    "duration": 10,
    "start_time": "2021-12-29T11:26:48.144Z"
   },
   {
    "duration": 12,
    "start_time": "2021-12-29T11:26:48.156Z"
   },
   {
    "duration": 14,
    "start_time": "2021-12-29T11:26:48.170Z"
   },
   {
    "duration": 18,
    "start_time": "2021-12-29T11:26:48.186Z"
   },
   {
    "duration": 329,
    "start_time": "2021-12-29T11:26:48.205Z"
   },
   {
    "duration": 6,
    "start_time": "2021-12-29T11:26:48.537Z"
   },
   {
    "duration": 12,
    "start_time": "2021-12-29T11:26:48.546Z"
   },
   {
    "duration": 280,
    "start_time": "2021-12-29T11:26:48.560Z"
   },
   {
    "duration": 6,
    "start_time": "2021-12-29T11:26:48.842Z"
   },
   {
    "duration": 816,
    "start_time": "2021-12-29T11:26:48.850Z"
   },
   {
    "duration": 8,
    "start_time": "2021-12-29T11:26:49.668Z"
   },
   {
    "duration": 297,
    "start_time": "2021-12-29T11:26:49.678Z"
   },
   {
    "duration": 4,
    "start_time": "2021-12-29T11:26:49.977Z"
   },
   {
    "duration": 6,
    "start_time": "2021-12-29T11:26:49.992Z"
   },
   {
    "duration": 12,
    "start_time": "2021-12-29T11:26:50.000Z"
   },
   {
    "duration": 20,
    "start_time": "2021-12-29T11:26:50.015Z"
   },
   {
    "duration": 128,
    "start_time": "2021-12-29T11:26:50.037Z"
   },
   {
    "duration": 7,
    "start_time": "2021-12-29T11:26:50.167Z"
   },
   {
    "duration": 15,
    "start_time": "2021-12-29T11:26:50.176Z"
   },
   {
    "duration": 15,
    "start_time": "2021-12-29T11:26:50.193Z"
   },
   {
    "duration": 12,
    "start_time": "2021-12-29T11:26:50.210Z"
   },
   {
    "duration": 40,
    "start_time": "2021-12-29T11:26:50.224Z"
   },
   {
    "duration": 49,
    "start_time": "2021-12-29T11:26:50.266Z"
   },
   {
    "duration": 1841,
    "start_time": "2021-12-29T11:26:50.318Z"
   },
   {
    "duration": 5834,
    "start_time": "2021-12-29T11:26:52.161Z"
   },
   {
    "duration": 10,
    "start_time": "2021-12-29T11:26:57.997Z"
   },
   {
    "duration": 12,
    "start_time": "2021-12-29T11:26:58.009Z"
   },
   {
    "duration": 15,
    "start_time": "2021-12-29T11:26:58.022Z"
   },
   {
    "duration": 1148,
    "start_time": "2021-12-29T11:27:03.662Z"
   },
   {
    "duration": 2,
    "start_time": "2021-12-29T11:27:04.812Z"
   },
   {
    "duration": 56,
    "start_time": "2021-12-29T11:27:04.821Z"
   },
   {
    "duration": 12,
    "start_time": "2021-12-29T11:27:04.879Z"
   },
   {
    "duration": 33,
    "start_time": "2021-12-29T11:27:04.893Z"
   },
   {
    "duration": 29,
    "start_time": "2021-12-29T11:27:04.928Z"
   },
   {
    "duration": 46,
    "start_time": "2021-12-29T11:27:04.959Z"
   },
   {
    "duration": 457,
    "start_time": "2021-12-29T11:27:05.008Z"
   },
   {
    "duration": 6,
    "start_time": "2021-12-29T11:27:05.468Z"
   },
   {
    "duration": 45,
    "start_time": "2021-12-29T11:27:05.476Z"
   },
   {
    "duration": 309,
    "start_time": "2021-12-29T11:27:05.523Z"
   },
   {
    "duration": 9,
    "start_time": "2021-12-29T11:27:05.834Z"
   },
   {
    "duration": 814,
    "start_time": "2021-12-29T11:27:05.845Z"
   },
   {
    "duration": 9,
    "start_time": "2021-12-29T11:27:06.661Z"
   },
   {
    "duration": 294,
    "start_time": "2021-12-29T11:27:06.672Z"
   },
   {
    "duration": 4,
    "start_time": "2021-12-29T11:27:06.968Z"
   },
   {
    "duration": 29,
    "start_time": "2021-12-29T11:27:06.973Z"
   },
   {
    "duration": 23,
    "start_time": "2021-12-29T11:27:07.003Z"
   },
   {
    "duration": 30,
    "start_time": "2021-12-29T11:27:07.028Z"
   },
   {
    "duration": 121,
    "start_time": "2021-12-29T11:27:07.060Z"
   },
   {
    "duration": 20,
    "start_time": "2021-12-29T11:27:07.183Z"
   },
   {
    "duration": 22,
    "start_time": "2021-12-29T11:27:07.205Z"
   },
   {
    "duration": 27,
    "start_time": "2021-12-29T11:27:07.229Z"
   },
   {
    "duration": 26,
    "start_time": "2021-12-29T11:27:07.257Z"
   },
   {
    "duration": 23,
    "start_time": "2021-12-29T11:27:07.285Z"
   },
   {
    "duration": 43,
    "start_time": "2021-12-29T11:27:07.311Z"
   },
   {
    "duration": 1401,
    "start_time": "2021-12-29T11:27:07.357Z"
   },
   {
    "duration": 4550,
    "start_time": "2021-12-29T11:27:08.760Z"
   },
   {
    "duration": 7,
    "start_time": "2021-12-29T11:27:13.312Z"
   },
   {
    "duration": 37,
    "start_time": "2021-12-29T11:27:13.321Z"
   },
   {
    "duration": 14,
    "start_time": "2021-12-29T11:27:13.360Z"
   },
   {
    "duration": 925,
    "start_time": "2021-12-29T11:27:28.584Z"
   },
   {
    "duration": 1168,
    "start_time": "2021-12-29T11:29:55.702Z"
   },
   {
    "duration": 2,
    "start_time": "2021-12-29T11:29:56.873Z"
   },
   {
    "duration": 40,
    "start_time": "2021-12-29T11:29:56.877Z"
   },
   {
    "duration": 11,
    "start_time": "2021-12-29T11:29:56.919Z"
   },
   {
    "duration": 5,
    "start_time": "2021-12-29T11:29:56.932Z"
   },
   {
    "duration": 4,
    "start_time": "2021-12-29T11:29:56.939Z"
   },
   {
    "duration": 11,
    "start_time": "2021-12-29T11:29:56.944Z"
   },
   {
    "duration": 336,
    "start_time": "2021-12-29T11:29:56.956Z"
   },
   {
    "duration": 5,
    "start_time": "2021-12-29T11:29:57.295Z"
   },
   {
    "duration": 17,
    "start_time": "2021-12-29T11:29:57.302Z"
   },
   {
    "duration": 283,
    "start_time": "2021-12-29T11:29:57.321Z"
   },
   {
    "duration": 6,
    "start_time": "2021-12-29T11:29:57.605Z"
   },
   {
    "duration": 776,
    "start_time": "2021-12-29T11:29:57.612Z"
   },
   {
    "duration": 9,
    "start_time": "2021-12-29T11:29:58.391Z"
   },
   {
    "duration": 284,
    "start_time": "2021-12-29T11:29:58.401Z"
   },
   {
    "duration": 6,
    "start_time": "2021-12-29T11:29:58.687Z"
   },
   {
    "duration": 7,
    "start_time": "2021-12-29T11:29:58.695Z"
   },
   {
    "duration": 9,
    "start_time": "2021-12-29T11:29:58.704Z"
   },
   {
    "duration": 4,
    "start_time": "2021-12-29T11:29:58.715Z"
   },
   {
    "duration": 127,
    "start_time": "2021-12-29T11:29:58.720Z"
   },
   {
    "duration": 6,
    "start_time": "2021-12-29T11:29:58.849Z"
   },
   {
    "duration": 8,
    "start_time": "2021-12-29T11:29:58.857Z"
   },
   {
    "duration": 7,
    "start_time": "2021-12-29T11:29:58.867Z"
   },
   {
    "duration": 20,
    "start_time": "2021-12-29T11:29:58.876Z"
   },
   {
    "duration": 11,
    "start_time": "2021-12-29T11:29:58.897Z"
   },
   {
    "duration": 32,
    "start_time": "2021-12-29T11:29:58.909Z"
   },
   {
    "duration": 1441,
    "start_time": "2021-12-29T11:29:58.945Z"
   },
   {
    "duration": 930,
    "start_time": "2021-12-29T11:30:00.388Z"
   },
   {
    "duration": 8,
    "start_time": "2021-12-29T11:30:01.320Z"
   },
   {
    "duration": 11,
    "start_time": "2021-12-29T11:30:01.330Z"
   },
   {
    "duration": 10,
    "start_time": "2021-12-29T11:30:01.343Z"
   },
   {
    "duration": 7,
    "start_time": "2021-12-29T11:30:05.274Z"
   },
   {
    "duration": 1153,
    "start_time": "2021-12-29T11:30:22.067Z"
   },
   {
    "duration": 2,
    "start_time": "2021-12-29T11:30:23.223Z"
   },
   {
    "duration": 40,
    "start_time": "2021-12-29T11:30:23.228Z"
   },
   {
    "duration": 9,
    "start_time": "2021-12-29T11:30:23.270Z"
   },
   {
    "duration": 15,
    "start_time": "2021-12-29T11:30:23.281Z"
   },
   {
    "duration": 4,
    "start_time": "2021-12-29T11:30:23.298Z"
   },
   {
    "duration": 12,
    "start_time": "2021-12-29T11:30:23.304Z"
   },
   {
    "duration": 334,
    "start_time": "2021-12-29T11:30:23.318Z"
   },
   {
    "duration": 6,
    "start_time": "2021-12-29T11:30:23.654Z"
   },
   {
    "duration": 8,
    "start_time": "2021-12-29T11:30:23.663Z"
   },
   {
    "duration": 286,
    "start_time": "2021-12-29T11:30:23.673Z"
   },
   {
    "duration": 8,
    "start_time": "2021-12-29T11:30:23.961Z"
   },
   {
    "duration": 804,
    "start_time": "2021-12-29T11:30:23.970Z"
   },
   {
    "duration": 16,
    "start_time": "2021-12-29T11:30:24.777Z"
   },
   {
    "duration": 281,
    "start_time": "2021-12-29T11:30:24.795Z"
   },
   {
    "duration": 3,
    "start_time": "2021-12-29T11:30:25.078Z"
   },
   {
    "duration": 12,
    "start_time": "2021-12-29T11:30:25.083Z"
   },
   {
    "duration": 9,
    "start_time": "2021-12-29T11:30:25.096Z"
   },
   {
    "duration": 4,
    "start_time": "2021-12-29T11:30:25.107Z"
   },
   {
    "duration": 119,
    "start_time": "2021-12-29T11:30:25.113Z"
   },
   {
    "duration": 6,
    "start_time": "2021-12-29T11:30:25.234Z"
   },
   {
    "duration": 6,
    "start_time": "2021-12-29T11:30:25.242Z"
   },
   {
    "duration": 11,
    "start_time": "2021-12-29T11:30:25.250Z"
   },
   {
    "duration": 27,
    "start_time": "2021-12-29T11:30:25.264Z"
   },
   {
    "duration": 11,
    "start_time": "2021-12-29T11:30:25.294Z"
   },
   {
    "duration": 35,
    "start_time": "2021-12-29T11:30:25.307Z"
   },
   {
    "duration": 1535,
    "start_time": "2021-12-29T11:30:25.346Z"
   },
   {
    "duration": 1019,
    "start_time": "2021-12-29T11:30:26.883Z"
   },
   {
    "duration": 7,
    "start_time": "2021-12-29T11:30:27.903Z"
   },
   {
    "duration": 7,
    "start_time": "2021-12-29T11:30:27.912Z"
   },
   {
    "duration": 8,
    "start_time": "2021-12-29T11:30:27.921Z"
   },
   {
    "duration": 1526,
    "start_time": "2021-12-29T11:31:09.711Z"
   },
   {
    "duration": 546,
    "start_time": "2021-12-29T11:31:19.607Z"
   },
   {
    "duration": 8,
    "start_time": "2021-12-29T11:31:57.537Z"
   },
   {
    "duration": 386,
    "start_time": "2021-12-29T11:38:30.950Z"
   },
   {
    "duration": 8,
    "start_time": "2021-12-29T11:38:38.473Z"
   },
   {
    "duration": 5,
    "start_time": "2021-12-29T11:38:42.366Z"
   },
   {
    "duration": 5,
    "start_time": "2021-12-29T11:38:53.685Z"
   },
   {
    "duration": 132,
    "start_time": "2021-12-29T11:39:14.829Z"
   },
   {
    "duration": 6,
    "start_time": "2021-12-29T11:39:19.652Z"
   },
   {
    "duration": 594,
    "start_time": "2021-12-29T11:39:39.226Z"
   },
   {
    "duration": 200,
    "start_time": "2021-12-29T11:40:43.446Z"
   },
   {
    "duration": 176,
    "start_time": "2021-12-29T11:41:01.323Z"
   },
   {
    "duration": 6,
    "start_time": "2021-12-29T11:41:08.444Z"
   },
   {
    "duration": 5,
    "start_time": "2021-12-29T11:41:20.446Z"
   },
   {
    "duration": 5,
    "start_time": "2021-12-29T11:41:28.632Z"
   },
   {
    "duration": 3,
    "start_time": "2021-12-29T11:41:40.321Z"
   },
   {
    "duration": 6,
    "start_time": "2021-12-29T11:41:42.769Z"
   },
   {
    "duration": 205,
    "start_time": "2021-12-29T11:41:48.035Z"
   },
   {
    "duration": 236,
    "start_time": "2021-12-29T11:42:09.429Z"
   },
   {
    "duration": 3,
    "start_time": "2021-12-29T12:02:48.621Z"
   },
   {
    "duration": 1111,
    "start_time": "2021-12-29T12:02:56.779Z"
   },
   {
    "duration": 3,
    "start_time": "2021-12-29T12:02:57.892Z"
   },
   {
    "duration": 4,
    "start_time": "2021-12-29T12:02:57.899Z"
   },
   {
    "duration": 40,
    "start_time": "2021-12-29T12:02:57.904Z"
   },
   {
    "duration": 9,
    "start_time": "2021-12-29T12:02:57.945Z"
   },
   {
    "duration": 9,
    "start_time": "2021-12-29T12:02:57.956Z"
   },
   {
    "duration": 5,
    "start_time": "2021-12-29T12:02:57.967Z"
   },
   {
    "duration": 11,
    "start_time": "2021-12-29T12:02:57.993Z"
   },
   {
    "duration": 317,
    "start_time": "2021-12-29T12:02:58.006Z"
   },
   {
    "duration": 6,
    "start_time": "2021-12-29T12:02:58.325Z"
   },
   {
    "duration": 7,
    "start_time": "2021-12-29T12:02:58.333Z"
   },
   {
    "duration": 280,
    "start_time": "2021-12-29T12:02:58.342Z"
   },
   {
    "duration": 7,
    "start_time": "2021-12-29T12:02:58.624Z"
   },
   {
    "duration": 794,
    "start_time": "2021-12-29T12:02:58.632Z"
   },
   {
    "duration": 9,
    "start_time": "2021-12-29T12:02:59.428Z"
   },
   {
    "duration": 284,
    "start_time": "2021-12-29T12:02:59.438Z"
   },
   {
    "duration": 4,
    "start_time": "2021-12-29T12:02:59.724Z"
   },
   {
    "duration": 9,
    "start_time": "2021-12-29T12:02:59.729Z"
   },
   {
    "duration": 9,
    "start_time": "2021-12-29T12:02:59.739Z"
   },
   {
    "duration": 4,
    "start_time": "2021-12-29T12:02:59.750Z"
   },
   {
    "duration": 129,
    "start_time": "2021-12-29T12:02:59.755Z"
   },
   {
    "duration": 9,
    "start_time": "2021-12-29T12:02:59.885Z"
   },
   {
    "duration": 6,
    "start_time": "2021-12-29T12:02:59.896Z"
   },
   {
    "duration": 15,
    "start_time": "2021-12-29T12:02:59.904Z"
   },
   {
    "duration": 8,
    "start_time": "2021-12-29T12:02:59.922Z"
   },
   {
    "duration": 9,
    "start_time": "2021-12-29T12:02:59.934Z"
   },
   {
    "duration": 55,
    "start_time": "2021-12-29T12:02:59.946Z"
   },
   {
    "duration": 1673,
    "start_time": "2021-12-29T12:03:00.003Z"
   },
   {
    "duration": 526,
    "start_time": "2021-12-29T12:03:01.678Z"
   },
   {
    "duration": 7,
    "start_time": "2021-12-29T12:03:02.206Z"
   },
   {
    "duration": 30,
    "start_time": "2021-12-29T12:03:02.215Z"
   },
   {
    "duration": 21,
    "start_time": "2021-12-29T12:03:02.247Z"
   },
   {
    "duration": 17,
    "start_time": "2021-12-29T12:03:02.270Z"
   },
   {
    "duration": 253,
    "start_time": "2021-12-29T12:03:02.288Z"
   },
   {
    "duration": 532,
    "start_time": "2021-12-29T12:05:59.963Z"
   },
   {
    "duration": 243,
    "start_time": "2021-12-29T12:06:12.399Z"
   },
   {
    "duration": 376,
    "start_time": "2021-12-29T12:07:11.098Z"
   },
   {
    "duration": 244,
    "start_time": "2021-12-29T12:10:06.416Z"
   },
   {
    "duration": 239,
    "start_time": "2021-12-29T12:10:10.327Z"
   },
   {
    "duration": 1127,
    "start_time": "2021-12-29T12:15:54.956Z"
   },
   {
    "duration": 3,
    "start_time": "2021-12-29T12:15:56.085Z"
   },
   {
    "duration": 3,
    "start_time": "2021-12-29T12:15:56.092Z"
   },
   {
    "duration": 40,
    "start_time": "2021-12-29T12:15:56.096Z"
   },
   {
    "duration": 10,
    "start_time": "2021-12-29T12:15:56.137Z"
   },
   {
    "duration": 7,
    "start_time": "2021-12-29T12:15:56.149Z"
   },
   {
    "duration": 4,
    "start_time": "2021-12-29T12:15:56.158Z"
   },
   {
    "duration": 29,
    "start_time": "2021-12-29T12:15:56.164Z"
   },
   {
    "duration": 310,
    "start_time": "2021-12-29T12:15:56.195Z"
   },
   {
    "duration": 5,
    "start_time": "2021-12-29T12:15:56.507Z"
   },
   {
    "duration": 8,
    "start_time": "2021-12-29T12:15:56.513Z"
   },
   {
    "duration": 273,
    "start_time": "2021-12-29T12:15:56.523Z"
   },
   {
    "duration": 7,
    "start_time": "2021-12-29T12:15:56.798Z"
   },
   {
    "duration": 791,
    "start_time": "2021-12-29T12:15:56.806Z"
   },
   {
    "duration": 9,
    "start_time": "2021-12-29T12:15:57.599Z"
   },
   {
    "duration": 281,
    "start_time": "2021-12-29T12:15:57.610Z"
   },
   {
    "duration": 4,
    "start_time": "2021-12-29T12:15:57.893Z"
   },
   {
    "duration": 8,
    "start_time": "2021-12-29T12:15:57.898Z"
   },
   {
    "duration": 9,
    "start_time": "2021-12-29T12:15:57.908Z"
   },
   {
    "duration": 6,
    "start_time": "2021-12-29T12:15:57.918Z"
   },
   {
    "duration": 117,
    "start_time": "2021-12-29T12:15:57.925Z"
   },
   {
    "duration": 7,
    "start_time": "2021-12-29T12:15:58.044Z"
   },
   {
    "duration": 3,
    "start_time": "2021-12-29T12:15:58.054Z"
   },
   {
    "duration": 7,
    "start_time": "2021-12-29T12:15:58.059Z"
   },
   {
    "duration": 23,
    "start_time": "2021-12-29T12:15:58.068Z"
   },
   {
    "duration": 10,
    "start_time": "2021-12-29T12:15:58.093Z"
   },
   {
    "duration": 30,
    "start_time": "2021-12-29T12:15:58.105Z"
   },
   {
    "duration": 1537,
    "start_time": "2021-12-29T12:15:58.137Z"
   },
   {
    "duration": 586,
    "start_time": "2021-12-29T12:15:59.675Z"
   },
   {
    "duration": 7,
    "start_time": "2021-12-29T12:16:00.263Z"
   },
   {
    "duration": 21,
    "start_time": "2021-12-29T12:16:00.271Z"
   },
   {
    "duration": 5,
    "start_time": "2021-12-29T12:16:00.294Z"
   },
   {
    "duration": 10,
    "start_time": "2021-12-29T12:16:00.300Z"
   },
   {
    "duration": 273,
    "start_time": "2021-12-29T12:16:00.311Z"
   },
   {
    "duration": 1611,
    "start_time": "2021-12-29T16:26:25.799Z"
   },
   {
    "duration": 3,
    "start_time": "2021-12-29T16:26:27.413Z"
   },
   {
    "duration": 6,
    "start_time": "2021-12-29T16:26:27.419Z"
   },
   {
    "duration": 61,
    "start_time": "2021-12-29T16:26:27.427Z"
   },
   {
    "duration": 17,
    "start_time": "2021-12-29T16:26:27.491Z"
   },
   {
    "duration": 7,
    "start_time": "2021-12-29T16:26:27.511Z"
   },
   {
    "duration": 4,
    "start_time": "2021-12-29T16:26:27.521Z"
   },
   {
    "duration": 14,
    "start_time": "2021-12-29T16:26:28.029Z"
   },
   {
    "duration": 483,
    "start_time": "2021-12-29T16:26:28.216Z"
   },
   {
    "duration": 7,
    "start_time": "2021-12-29T16:26:29.205Z"
   },
   {
    "duration": 7,
    "start_time": "2021-12-29T16:26:29.556Z"
   },
   {
    "duration": 413,
    "start_time": "2021-12-29T16:26:29.734Z"
   },
   {
    "duration": 17,
    "start_time": "2021-12-29T16:26:30.151Z"
   },
   {
    "duration": 1209,
    "start_time": "2021-12-29T16:26:30.195Z"
   },
   {
    "duration": 12,
    "start_time": "2021-12-29T16:26:31.406Z"
   },
   {
    "duration": 416,
    "start_time": "2021-12-29T16:26:31.420Z"
   },
   {
    "duration": 6,
    "start_time": "2021-12-29T16:26:32.475Z"
   },
   {
    "duration": 9,
    "start_time": "2021-12-29T16:26:34.057Z"
   },
   {
    "duration": 9,
    "start_time": "2021-12-29T16:26:34.717Z"
   },
   {
    "duration": 6,
    "start_time": "2021-12-29T16:26:35.072Z"
   },
   {
    "duration": 49,
    "start_time": "2021-12-29T16:26:36.221Z"
   },
   {
    "duration": 8,
    "start_time": "2021-12-29T16:27:04.456Z"
   },
   {
    "duration": 8,
    "start_time": "2021-12-29T16:27:07.793Z"
   },
   {
    "duration": 6,
    "start_time": "2021-12-29T16:27:08.405Z"
   },
   {
    "duration": 8,
    "start_time": "2021-12-29T16:27:09.828Z"
   },
   {
    "duration": 73,
    "start_time": "2021-12-29T16:27:09.978Z"
   },
   {
    "duration": 9,
    "start_time": "2021-12-29T16:27:15.063Z"
   },
   {
    "duration": 11,
    "start_time": "2021-12-29T16:27:21.415Z"
   },
   {
    "duration": 22,
    "start_time": "2021-12-29T16:27:40.931Z"
   },
   {
    "duration": 6,
    "start_time": "2021-12-29T16:27:45.097Z"
   },
   {
    "duration": 31,
    "start_time": "2021-12-29T16:27:51.008Z"
   },
   {
    "duration": 6,
    "start_time": "2021-12-29T16:27:55.271Z"
   },
   {
    "duration": 7,
    "start_time": "2021-12-29T16:27:55.459Z"
   },
   {
    "duration": 7,
    "start_time": "2021-12-29T16:27:55.815Z"
   },
   {
    "duration": 7,
    "start_time": "2021-12-29T16:27:55.971Z"
   },
   {
    "duration": 10,
    "start_time": "2021-12-29T16:27:58.828Z"
   },
   {
    "duration": 47,
    "start_time": "2021-12-29T16:28:24.954Z"
   },
   {
    "duration": 11,
    "start_time": "2021-12-29T16:28:25.397Z"
   },
   {
    "duration": 11,
    "start_time": "2021-12-29T16:28:25.871Z"
   },
   {
    "duration": 5,
    "start_time": "2021-12-29T16:28:26.517Z"
   },
   {
    "duration": 15,
    "start_time": "2021-12-29T16:28:27.507Z"
   },
   {
    "duration": 493,
    "start_time": "2021-12-29T16:28:27.853Z"
   },
   {
    "duration": 43,
    "start_time": "2021-12-29T16:28:41.205Z"
   },
   {
    "duration": 10,
    "start_time": "2021-12-29T16:28:42.205Z"
   },
   {
    "duration": 7,
    "start_time": "2021-12-29T16:28:42.376Z"
   },
   {
    "duration": 9,
    "start_time": "2021-12-29T16:28:42.701Z"
   },
   {
    "duration": 7,
    "start_time": "2021-12-29T16:28:43.174Z"
   },
   {
    "duration": 116,
    "start_time": "2021-12-29T16:28:43.851Z"
   },
   {
    "duration": 205,
    "start_time": "2021-12-29T16:28:51.457Z"
   }
  ],
  "kernelspec": {
   "display_name": "Python 3 (ipykernel)",
   "language": "python",
   "name": "python3"
  },
  "language_info": {
   "codemirror_mode": {
    "name": "ipython",
    "version": 3
   },
   "file_extension": ".py",
   "mimetype": "text/x-python",
   "name": "python",
   "nbconvert_exporter": "python",
   "pygments_lexer": "ipython3",
   "version": "3.8.8"
  },
  "toc": {
   "base_numbering": 1,
   "nav_menu": {},
   "number_sections": true,
   "sideBar": true,
   "skip_h1_title": true,
   "title_cell": "Содержание",
   "title_sidebar": "Contents",
   "toc_cell": true,
   "toc_position": {},
   "toc_section_display": true,
   "toc_window_display": true
  }
 },
 "nbformat": 4,
 "nbformat_minor": 2
}
